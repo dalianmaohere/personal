{
 "cells": [
  {
   "cell_type": "code",
   "execution_count": 1,
   "metadata": {},
   "outputs": [],
   "source": [
    "import numpy as np\n",
    "import pandas as pd\n",
    "%matplotlib inline"
   ]
  },
  {
   "cell_type": "code",
   "execution_count": 2,
   "metadata": {},
   "outputs": [],
   "source": [
    "sample_window = pd.read_csv(\"./data/CreditSampleWindow.csv\",encoding=\"utf8\")"
   ]
  },
  {
   "cell_type": "code",
   "execution_count": 3,
   "metadata": {},
   "outputs": [
    {
     "data": {
      "text/plain": [
       "(1813157, 5)"
      ]
     },
     "execution_count": 3,
     "metadata": {},
     "output_type": "execute_result"
    }
   ],
   "source": [
    "sample_window.shape"
   ]
  },
  {
   "cell_type": "code",
   "execution_count": 5,
   "metadata": {},
   "outputs": [
    {
     "data": {
      "text/html": [
       "<div>\n",
       "<style scoped>\n",
       "    .dataframe tbody tr th:only-of-type {\n",
       "        vertical-align: middle;\n",
       "    }\n",
       "\n",
       "    .dataframe tbody tr th {\n",
       "        vertical-align: top;\n",
       "    }\n",
       "\n",
       "    .dataframe thead th {\n",
       "        text-align: right;\n",
       "    }\n",
       "</style>\n",
       "<table border=\"1\" class=\"dataframe\">\n",
       "  <thead>\n",
       "    <tr style=\"text-align: right;\">\n",
       "      <th></th>\n",
       "      <th>CID</th>\n",
       "      <th>STAGE_BEF</th>\n",
       "      <th>STAGE_AFT</th>\n",
       "      <th>START_DATE</th>\n",
       "      <th>CLOSE_DATE</th>\n",
       "    </tr>\n",
       "  </thead>\n",
       "  <tbody>\n",
       "    <tr>\n",
       "      <th>0</th>\n",
       "      <td>CID0128273</td>\n",
       "      <td></td>\n",
       "      <td>M0</td>\n",
       "      <td>20170701.0</td>\n",
       "      <td>20170703.0</td>\n",
       "    </tr>\n",
       "    <tr>\n",
       "      <th>1</th>\n",
       "      <td>CID0214787</td>\n",
       "      <td></td>\n",
       "      <td>M0</td>\n",
       "      <td>20180201.0</td>\n",
       "      <td>20180204.0</td>\n",
       "    </tr>\n",
       "    <tr>\n",
       "      <th>2</th>\n",
       "      <td>CID0287932</td>\n",
       "      <td>M4</td>\n",
       "      <td>M5</td>\n",
       "      <td>20180501.0</td>\n",
       "      <td>20180531.0</td>\n",
       "    </tr>\n",
       "    <tr>\n",
       "      <th>3</th>\n",
       "      <td>CID0351850</td>\n",
       "      <td></td>\n",
       "      <td>M0</td>\n",
       "      <td>20161002.0</td>\n",
       "      <td>20161005.0</td>\n",
       "    </tr>\n",
       "    <tr>\n",
       "      <th>4</th>\n",
       "      <td>CID0217310</td>\n",
       "      <td></td>\n",
       "      <td>M0</td>\n",
       "      <td>20150601.0</td>\n",
       "      <td>20150602.0</td>\n",
       "    </tr>\n",
       "  </tbody>\n",
       "</table>\n",
       "</div>"
      ],
      "text/plain": [
       "          CID STAGE_BEF STAGE_AFT  START_DATE  CLOSE_DATE\n",
       "0  CID0128273                  M0  20170701.0  20170703.0\n",
       "1  CID0214787                  M0  20180201.0  20180204.0\n",
       "2  CID0287932        M4        M5  20180501.0  20180531.0\n",
       "3  CID0351850                  M0  20161002.0  20161005.0\n",
       "4  CID0217310                  M0  20150601.0  20150602.0"
      ]
     },
     "execution_count": 5,
     "metadata": {},
     "output_type": "execute_result"
    }
   ],
   "source": [
    "sample_window.head(5)"
   ]
  },
  {
   "cell_type": "code",
   "execution_count": 6,
   "metadata": {},
   "outputs": [],
   "source": [
    "sample_window.drop_duplicates(inplace=True)"
   ]
  },
  {
   "cell_type": "code",
   "execution_count": 7,
   "metadata": {},
   "outputs": [
    {
     "data": {
      "text/plain": [
       "(1663660, 5)"
      ]
     },
     "execution_count": 7,
     "metadata": {},
     "output_type": "execute_result"
    }
   ],
   "source": [
    "sample_window.dropna(subset=['STAGE_BEF','STAGE_AFT'], inplace=True)\n",
    "sample_window.shape"
   ]
  },
  {
   "cell_type": "code",
   "execution_count": 8,
   "metadata": {},
   "outputs": [],
   "source": [
    "sample_window[\"START_MONTH\"] = sample_window.START_DATE.apply(lambda x: int(x//100))\n",
    "sample_window[\"CLOSE_MONTH\"] = sample_window.CLOSE_DATE.apply(lambda x: int(x//100))\n",
    "sample_window[\"AFT_FLAG\"] = sample_window.STAGE_AFT.apply(lambda x: int(x[-1]))"
   ]
  },
  {
   "cell_type": "code",
   "execution_count": 9,
   "metadata": {},
   "outputs": [],
   "source": [
    "sample_window.loc[sample_window.CLOSE_MONTH == 0,\"CLOSE_MONTH\"] = 201805"
   ]
  },
  {
   "cell_type": "code",
   "execution_count": 10,
   "metadata": {},
   "outputs": [
    {
     "data": {
      "text/html": [
       "<div>\n",
       "<style scoped>\n",
       "    .dataframe tbody tr th:only-of-type {\n",
       "        vertical-align: middle;\n",
       "    }\n",
       "\n",
       "    .dataframe tbody tr th {\n",
       "        vertical-align: top;\n",
       "    }\n",
       "\n",
       "    .dataframe thead th {\n",
       "        text-align: right;\n",
       "    }\n",
       "</style>\n",
       "<table border=\"1\" class=\"dataframe\">\n",
       "  <thead>\n",
       "    <tr style=\"text-align: right;\">\n",
       "      <th></th>\n",
       "      <th>CID</th>\n",
       "      <th>STAGE_BEF</th>\n",
       "      <th>STAGE_AFT</th>\n",
       "      <th>START_DATE</th>\n",
       "      <th>CLOSE_DATE</th>\n",
       "      <th>START_MONTH</th>\n",
       "      <th>CLOSE_MONTH</th>\n",
       "      <th>AFT_FLAG</th>\n",
       "    </tr>\n",
       "  </thead>\n",
       "  <tbody>\n",
       "    <tr>\n",
       "      <th>0</th>\n",
       "      <td>CID0128273</td>\n",
       "      <td></td>\n",
       "      <td>M0</td>\n",
       "      <td>20170701.0</td>\n",
       "      <td>20170703.0</td>\n",
       "      <td>201707</td>\n",
       "      <td>201707</td>\n",
       "      <td>0</td>\n",
       "    </tr>\n",
       "    <tr>\n",
       "      <th>1</th>\n",
       "      <td>CID0214787</td>\n",
       "      <td></td>\n",
       "      <td>M0</td>\n",
       "      <td>20180201.0</td>\n",
       "      <td>20180204.0</td>\n",
       "      <td>201802</td>\n",
       "      <td>201802</td>\n",
       "      <td>0</td>\n",
       "    </tr>\n",
       "    <tr>\n",
       "      <th>2</th>\n",
       "      <td>CID0287932</td>\n",
       "      <td>M4</td>\n",
       "      <td>M5</td>\n",
       "      <td>20180501.0</td>\n",
       "      <td>20180531.0</td>\n",
       "      <td>201805</td>\n",
       "      <td>201805</td>\n",
       "      <td>5</td>\n",
       "    </tr>\n",
       "    <tr>\n",
       "      <th>3</th>\n",
       "      <td>CID0351850</td>\n",
       "      <td></td>\n",
       "      <td>M0</td>\n",
       "      <td>20161002.0</td>\n",
       "      <td>20161005.0</td>\n",
       "      <td>201610</td>\n",
       "      <td>201610</td>\n",
       "      <td>0</td>\n",
       "    </tr>\n",
       "    <tr>\n",
       "      <th>4</th>\n",
       "      <td>CID0217310</td>\n",
       "      <td></td>\n",
       "      <td>M0</td>\n",
       "      <td>20150601.0</td>\n",
       "      <td>20150602.0</td>\n",
       "      <td>201506</td>\n",
       "      <td>201506</td>\n",
       "      <td>0</td>\n",
       "    </tr>\n",
       "  </tbody>\n",
       "</table>\n",
       "</div>"
      ],
      "text/plain": [
       "          CID STAGE_BEF STAGE_AFT  START_DATE  CLOSE_DATE  START_MONTH  \\\n",
       "0  CID0128273                  M0  20170701.0  20170703.0       201707   \n",
       "1  CID0214787                  M0  20180201.0  20180204.0       201802   \n",
       "2  CID0287932        M4        M5  20180501.0  20180531.0       201805   \n",
       "3  CID0351850                  M0  20161002.0  20161005.0       201610   \n",
       "4  CID0217310                  M0  20150601.0  20150602.0       201506   \n",
       "\n",
       "   CLOSE_MONTH  AFT_FLAG  \n",
       "0       201707         0  \n",
       "1       201802         0  \n",
       "2       201805         5  \n",
       "3       201610         0  \n",
       "4       201506         0  "
      ]
     },
     "execution_count": 10,
     "metadata": {},
     "output_type": "execute_result"
    }
   ],
   "source": [
    "sample_window.head()"
   ]
  },
  {
   "cell_type": "code",
   "execution_count": 11,
   "metadata": {},
   "outputs": [],
   "source": [
    "# 提取 ID、月份、月份对应状态作为新的数据\n",
    "overdue = sample_window.loc[:,[\"CID\",\"START_MONTH\",\"AFT_FLAG\"]]\\\n",
    "    .rename(columns={\"START_MONTH\":\"CLOSE_MONTH\"})\\\n",
    "    .append(sample_window.loc[:,[\"CID\",\"CLOSE_MONTH\",\"AFT_FLAG\"]],\n",
    "    ignore_index=True)"
   ]
  },
  {
   "cell_type": "code",
   "execution_count": 12,
   "metadata": {},
   "outputs": [
    {
     "data": {
      "text/html": [
       "<div>\n",
       "<style scoped>\n",
       "    .dataframe tbody tr th:only-of-type {\n",
       "        vertical-align: middle;\n",
       "    }\n",
       "\n",
       "    .dataframe tbody tr th {\n",
       "        vertical-align: top;\n",
       "    }\n",
       "\n",
       "    .dataframe thead th {\n",
       "        text-align: right;\n",
       "    }\n",
       "</style>\n",
       "<table border=\"1\" class=\"dataframe\">\n",
       "  <thead>\n",
       "    <tr style=\"text-align: right;\">\n",
       "      <th></th>\n",
       "      <th>CID</th>\n",
       "      <th>CLOSE_MONTH</th>\n",
       "      <th>AFT_FLAG</th>\n",
       "    </tr>\n",
       "  </thead>\n",
       "  <tbody>\n",
       "    <tr>\n",
       "      <th>0</th>\n",
       "      <td>CID0128273</td>\n",
       "      <td>201707</td>\n",
       "      <td>0</td>\n",
       "    </tr>\n",
       "    <tr>\n",
       "      <th>1</th>\n",
       "      <td>CID0214787</td>\n",
       "      <td>201802</td>\n",
       "      <td>0</td>\n",
       "    </tr>\n",
       "    <tr>\n",
       "      <th>2</th>\n",
       "      <td>CID0287932</td>\n",
       "      <td>201805</td>\n",
       "      <td>5</td>\n",
       "    </tr>\n",
       "    <tr>\n",
       "      <th>3</th>\n",
       "      <td>CID0351850</td>\n",
       "      <td>201610</td>\n",
       "      <td>0</td>\n",
       "    </tr>\n",
       "    <tr>\n",
       "      <th>4</th>\n",
       "      <td>CID0217310</td>\n",
       "      <td>201506</td>\n",
       "      <td>0</td>\n",
       "    </tr>\n",
       "  </tbody>\n",
       "</table>\n",
       "</div>"
      ],
      "text/plain": [
       "          CID  CLOSE_MONTH  AFT_FLAG\n",
       "0  CID0128273       201707         0\n",
       "1  CID0214787       201802         0\n",
       "2  CID0287932       201805         5\n",
       "3  CID0351850       201610         0\n",
       "4  CID0217310       201506         0"
      ]
     },
     "execution_count": 12,
     "metadata": {},
     "output_type": "execute_result"
    }
   ],
   "source": [
    "overdue.head()"
   ]
  },
  {
   "cell_type": "code",
   "execution_count": 13,
   "metadata": {},
   "outputs": [],
   "source": [
    "# 生成每个订单的逾期信息\n",
    "overdue = overdue.sort_values(by=[\"CID\",\"CLOSE_MONTH\",\"AFT_FLAG\"])\\\n",
    "    .drop_duplicates(subset=[\"CID\",\"CLOSE_MONTH\"],keep=\"last\")\\\n",
    "    .set_index([\"CID\",\"CLOSE_MONTH\"]).unstack(1)"
   ]
  },
  {
   "cell_type": "code",
   "execution_count": null,
   "metadata": {},
   "outputs": [],
   "source": []
  },
  {
   "cell_type": "code",
   "execution_count": 14,
   "metadata": {},
   "outputs": [],
   "source": [
    "overdue.columns = overdue.columns.droplevel()"
   ]
  },
  {
   "cell_type": "code",
   "execution_count": 15,
   "metadata": {},
   "outputs": [
    {
     "data": {
      "text/html": [
       "<div>\n",
       "<style scoped>\n",
       "    .dataframe tbody tr th:only-of-type {\n",
       "        vertical-align: middle;\n",
       "    }\n",
       "\n",
       "    .dataframe tbody tr th {\n",
       "        vertical-align: top;\n",
       "    }\n",
       "\n",
       "    .dataframe thead th {\n",
       "        text-align: right;\n",
       "    }\n",
       "</style>\n",
       "<table border=\"1\" class=\"dataframe\">\n",
       "  <thead>\n",
       "    <tr style=\"text-align: right;\">\n",
       "      <th>CLOSE_MONTH</th>\n",
       "      <th>201503</th>\n",
       "      <th>201504</th>\n",
       "      <th>201505</th>\n",
       "      <th>201506</th>\n",
       "      <th>201507</th>\n",
       "      <th>201508</th>\n",
       "      <th>201509</th>\n",
       "      <th>201510</th>\n",
       "      <th>201511</th>\n",
       "      <th>201512</th>\n",
       "      <th>...</th>\n",
       "      <th>201708</th>\n",
       "      <th>201709</th>\n",
       "      <th>201710</th>\n",
       "      <th>201711</th>\n",
       "      <th>201712</th>\n",
       "      <th>201801</th>\n",
       "      <th>201802</th>\n",
       "      <th>201803</th>\n",
       "      <th>201804</th>\n",
       "      <th>201805</th>\n",
       "    </tr>\n",
       "    <tr>\n",
       "      <th>CID</th>\n",
       "      <th></th>\n",
       "      <th></th>\n",
       "      <th></th>\n",
       "      <th></th>\n",
       "      <th></th>\n",
       "      <th></th>\n",
       "      <th></th>\n",
       "      <th></th>\n",
       "      <th></th>\n",
       "      <th></th>\n",
       "      <th></th>\n",
       "      <th></th>\n",
       "      <th></th>\n",
       "      <th></th>\n",
       "      <th></th>\n",
       "      <th></th>\n",
       "      <th></th>\n",
       "      <th></th>\n",
       "      <th></th>\n",
       "      <th></th>\n",
       "      <th></th>\n",
       "    </tr>\n",
       "  </thead>\n",
       "  <tbody>\n",
       "    <tr>\n",
       "      <th>CID0000000</th>\n",
       "      <td>NaN</td>\n",
       "      <td>NaN</td>\n",
       "      <td>NaN</td>\n",
       "      <td>NaN</td>\n",
       "      <td>NaN</td>\n",
       "      <td>NaN</td>\n",
       "      <td>NaN</td>\n",
       "      <td>NaN</td>\n",
       "      <td>NaN</td>\n",
       "      <td>NaN</td>\n",
       "      <td>...</td>\n",
       "      <td>NaN</td>\n",
       "      <td>NaN</td>\n",
       "      <td>NaN</td>\n",
       "      <td>NaN</td>\n",
       "      <td>NaN</td>\n",
       "      <td>NaN</td>\n",
       "      <td>NaN</td>\n",
       "      <td>NaN</td>\n",
       "      <td>NaN</td>\n",
       "      <td>NaN</td>\n",
       "    </tr>\n",
       "    <tr>\n",
       "      <th>CID0000001</th>\n",
       "      <td>NaN</td>\n",
       "      <td>NaN</td>\n",
       "      <td>NaN</td>\n",
       "      <td>NaN</td>\n",
       "      <td>NaN</td>\n",
       "      <td>NaN</td>\n",
       "      <td>NaN</td>\n",
       "      <td>0.0</td>\n",
       "      <td>NaN</td>\n",
       "      <td>0.0</td>\n",
       "      <td>...</td>\n",
       "      <td>NaN</td>\n",
       "      <td>NaN</td>\n",
       "      <td>NaN</td>\n",
       "      <td>NaN</td>\n",
       "      <td>NaN</td>\n",
       "      <td>NaN</td>\n",
       "      <td>NaN</td>\n",
       "      <td>NaN</td>\n",
       "      <td>NaN</td>\n",
       "      <td>NaN</td>\n",
       "    </tr>\n",
       "    <tr>\n",
       "      <th>CID0000003</th>\n",
       "      <td>NaN</td>\n",
       "      <td>NaN</td>\n",
       "      <td>NaN</td>\n",
       "      <td>NaN</td>\n",
       "      <td>NaN</td>\n",
       "      <td>NaN</td>\n",
       "      <td>NaN</td>\n",
       "      <td>NaN</td>\n",
       "      <td>NaN</td>\n",
       "      <td>NaN</td>\n",
       "      <td>...</td>\n",
       "      <td>NaN</td>\n",
       "      <td>NaN</td>\n",
       "      <td>NaN</td>\n",
       "      <td>NaN</td>\n",
       "      <td>0.0</td>\n",
       "      <td>0.0</td>\n",
       "      <td>0.0</td>\n",
       "      <td>NaN</td>\n",
       "      <td>NaN</td>\n",
       "      <td>NaN</td>\n",
       "    </tr>\n",
       "    <tr>\n",
       "      <th>CID0000004</th>\n",
       "      <td>NaN</td>\n",
       "      <td>NaN</td>\n",
       "      <td>NaN</td>\n",
       "      <td>NaN</td>\n",
       "      <td>NaN</td>\n",
       "      <td>NaN</td>\n",
       "      <td>NaN</td>\n",
       "      <td>0.0</td>\n",
       "      <td>NaN</td>\n",
       "      <td>0.0</td>\n",
       "      <td>...</td>\n",
       "      <td>0.0</td>\n",
       "      <td>NaN</td>\n",
       "      <td>0.0</td>\n",
       "      <td>NaN</td>\n",
       "      <td>1.0</td>\n",
       "      <td>0.0</td>\n",
       "      <td>0.0</td>\n",
       "      <td>0.0</td>\n",
       "      <td>0.0</td>\n",
       "      <td>NaN</td>\n",
       "    </tr>\n",
       "    <tr>\n",
       "      <th>CID0000006</th>\n",
       "      <td>NaN</td>\n",
       "      <td>NaN</td>\n",
       "      <td>NaN</td>\n",
       "      <td>NaN</td>\n",
       "      <td>NaN</td>\n",
       "      <td>NaN</td>\n",
       "      <td>NaN</td>\n",
       "      <td>NaN</td>\n",
       "      <td>NaN</td>\n",
       "      <td>NaN</td>\n",
       "      <td>...</td>\n",
       "      <td>NaN</td>\n",
       "      <td>NaN</td>\n",
       "      <td>NaN</td>\n",
       "      <td>NaN</td>\n",
       "      <td>NaN</td>\n",
       "      <td>NaN</td>\n",
       "      <td>NaN</td>\n",
       "      <td>NaN</td>\n",
       "      <td>NaN</td>\n",
       "      <td>0.0</td>\n",
       "    </tr>\n",
       "  </tbody>\n",
       "</table>\n",
       "<p>5 rows × 39 columns</p>\n",
       "</div>"
      ],
      "text/plain": [
       "CLOSE_MONTH  201503  201504  201505  201506  201507  201508  201509  201510  \\\n",
       "CID                                                                           \n",
       "CID0000000      NaN     NaN     NaN     NaN     NaN     NaN     NaN     NaN   \n",
       "CID0000001      NaN     NaN     NaN     NaN     NaN     NaN     NaN     0.0   \n",
       "CID0000003      NaN     NaN     NaN     NaN     NaN     NaN     NaN     NaN   \n",
       "CID0000004      NaN     NaN     NaN     NaN     NaN     NaN     NaN     0.0   \n",
       "CID0000006      NaN     NaN     NaN     NaN     NaN     NaN     NaN     NaN   \n",
       "\n",
       "CLOSE_MONTH  201511  201512  ...  201708  201709  201710  201711  201712  \\\n",
       "CID                          ...                                           \n",
       "CID0000000      NaN     NaN  ...     NaN     NaN     NaN     NaN     NaN   \n",
       "CID0000001      NaN     0.0  ...     NaN     NaN     NaN     NaN     NaN   \n",
       "CID0000003      NaN     NaN  ...     NaN     NaN     NaN     NaN     0.0   \n",
       "CID0000004      NaN     0.0  ...     0.0     NaN     0.0     NaN     1.0   \n",
       "CID0000006      NaN     NaN  ...     NaN     NaN     NaN     NaN     NaN   \n",
       "\n",
       "CLOSE_MONTH  201801  201802  201803  201804  201805  \n",
       "CID                                                  \n",
       "CID0000000      NaN     NaN     NaN     NaN     NaN  \n",
       "CID0000001      NaN     NaN     NaN     NaN     NaN  \n",
       "CID0000003      0.0     0.0     NaN     NaN     NaN  \n",
       "CID0000004      0.0     0.0     0.0     0.0     NaN  \n",
       "CID0000006      NaN     NaN     NaN     NaN     0.0  \n",
       "\n",
       "[5 rows x 39 columns]"
      ]
     },
     "execution_count": 15,
     "metadata": {},
     "output_type": "execute_result"
    }
   ],
   "source": [
    "overdue.head()"
   ]
  },
  {
   "cell_type": "code",
   "execution_count": 18,
   "metadata": {},
   "outputs": [],
   "source": [
    "df = overdue"
   ]
  },
  {
   "cell_type": "code",
   "execution_count": 19,
   "metadata": {},
   "outputs": [],
   "source": [
    "trans_mat = pd.DataFrame(data=0,columns=range(0,10),index=range(0,10))"
   ]
  },
  {
   "cell_type": "code",
   "execution_count": 20,
   "metadata": {
    "collapsed": true
   },
   "outputs": [
    {
     "data": {
      "text/html": [
       "<div>\n",
       "<style scoped>\n",
       "    .dataframe tbody tr th:only-of-type {\n",
       "        vertical-align: middle;\n",
       "    }\n",
       "\n",
       "    .dataframe tbody tr th {\n",
       "        vertical-align: top;\n",
       "    }\n",
       "\n",
       "    .dataframe thead th {\n",
       "        text-align: right;\n",
       "    }\n",
       "</style>\n",
       "<table border=\"1\" class=\"dataframe\">\n",
       "  <thead>\n",
       "    <tr style=\"text-align: right;\">\n",
       "      <th></th>\n",
       "      <th>0</th>\n",
       "      <th>1</th>\n",
       "      <th>2</th>\n",
       "      <th>3</th>\n",
       "      <th>4</th>\n",
       "      <th>5</th>\n",
       "      <th>6</th>\n",
       "      <th>7</th>\n",
       "      <th>8</th>\n",
       "      <th>9</th>\n",
       "    </tr>\n",
       "  </thead>\n",
       "  <tbody>\n",
       "    <tr>\n",
       "      <th>0</th>\n",
       "      <td>0</td>\n",
       "      <td>0</td>\n",
       "      <td>0</td>\n",
       "      <td>0</td>\n",
       "      <td>0</td>\n",
       "      <td>0</td>\n",
       "      <td>0</td>\n",
       "      <td>0</td>\n",
       "      <td>0</td>\n",
       "      <td>0</td>\n",
       "    </tr>\n",
       "    <tr>\n",
       "      <th>1</th>\n",
       "      <td>0</td>\n",
       "      <td>0</td>\n",
       "      <td>0</td>\n",
       "      <td>0</td>\n",
       "      <td>0</td>\n",
       "      <td>0</td>\n",
       "      <td>0</td>\n",
       "      <td>0</td>\n",
       "      <td>0</td>\n",
       "      <td>0</td>\n",
       "    </tr>\n",
       "    <tr>\n",
       "      <th>2</th>\n",
       "      <td>0</td>\n",
       "      <td>0</td>\n",
       "      <td>0</td>\n",
       "      <td>0</td>\n",
       "      <td>0</td>\n",
       "      <td>0</td>\n",
       "      <td>0</td>\n",
       "      <td>0</td>\n",
       "      <td>0</td>\n",
       "      <td>0</td>\n",
       "    </tr>\n",
       "    <tr>\n",
       "      <th>3</th>\n",
       "      <td>0</td>\n",
       "      <td>0</td>\n",
       "      <td>0</td>\n",
       "      <td>0</td>\n",
       "      <td>0</td>\n",
       "      <td>0</td>\n",
       "      <td>0</td>\n",
       "      <td>0</td>\n",
       "      <td>0</td>\n",
       "      <td>0</td>\n",
       "    </tr>\n",
       "    <tr>\n",
       "      <th>4</th>\n",
       "      <td>0</td>\n",
       "      <td>0</td>\n",
       "      <td>0</td>\n",
       "      <td>0</td>\n",
       "      <td>0</td>\n",
       "      <td>0</td>\n",
       "      <td>0</td>\n",
       "      <td>0</td>\n",
       "      <td>0</td>\n",
       "      <td>0</td>\n",
       "    </tr>\n",
       "    <tr>\n",
       "      <th>5</th>\n",
       "      <td>0</td>\n",
       "      <td>0</td>\n",
       "      <td>0</td>\n",
       "      <td>0</td>\n",
       "      <td>0</td>\n",
       "      <td>0</td>\n",
       "      <td>0</td>\n",
       "      <td>0</td>\n",
       "      <td>0</td>\n",
       "      <td>0</td>\n",
       "    </tr>\n",
       "    <tr>\n",
       "      <th>6</th>\n",
       "      <td>0</td>\n",
       "      <td>0</td>\n",
       "      <td>0</td>\n",
       "      <td>0</td>\n",
       "      <td>0</td>\n",
       "      <td>0</td>\n",
       "      <td>0</td>\n",
       "      <td>0</td>\n",
       "      <td>0</td>\n",
       "      <td>0</td>\n",
       "    </tr>\n",
       "    <tr>\n",
       "      <th>7</th>\n",
       "      <td>0</td>\n",
       "      <td>0</td>\n",
       "      <td>0</td>\n",
       "      <td>0</td>\n",
       "      <td>0</td>\n",
       "      <td>0</td>\n",
       "      <td>0</td>\n",
       "      <td>0</td>\n",
       "      <td>0</td>\n",
       "      <td>0</td>\n",
       "    </tr>\n",
       "    <tr>\n",
       "      <th>8</th>\n",
       "      <td>0</td>\n",
       "      <td>0</td>\n",
       "      <td>0</td>\n",
       "      <td>0</td>\n",
       "      <td>0</td>\n",
       "      <td>0</td>\n",
       "      <td>0</td>\n",
       "      <td>0</td>\n",
       "      <td>0</td>\n",
       "      <td>0</td>\n",
       "    </tr>\n",
       "    <tr>\n",
       "      <th>9</th>\n",
       "      <td>0</td>\n",
       "      <td>0</td>\n",
       "      <td>0</td>\n",
       "      <td>0</td>\n",
       "      <td>0</td>\n",
       "      <td>0</td>\n",
       "      <td>0</td>\n",
       "      <td>0</td>\n",
       "      <td>0</td>\n",
       "      <td>0</td>\n",
       "    </tr>\n",
       "  </tbody>\n",
       "</table>\n",
       "</div>"
      ],
      "text/plain": [
       "   0  1  2  3  4  5  6  7  8  9\n",
       "0  0  0  0  0  0  0  0  0  0  0\n",
       "1  0  0  0  0  0  0  0  0  0  0\n",
       "2  0  0  0  0  0  0  0  0  0  0\n",
       "3  0  0  0  0  0  0  0  0  0  0\n",
       "4  0  0  0  0  0  0  0  0  0  0\n",
       "5  0  0  0  0  0  0  0  0  0  0\n",
       "6  0  0  0  0  0  0  0  0  0  0\n",
       "7  0  0  0  0  0  0  0  0  0  0\n",
       "8  0  0  0  0  0  0  0  0  0  0\n",
       "9  0  0  0  0  0  0  0  0  0  0"
      ]
     },
     "execution_count": 20,
     "metadata": {},
     "output_type": "execute_result"
    }
   ],
   "source": [
    "trans_mat"
   ]
  },
  {
   "cell_type": "code",
   "execution_count": 27,
   "metadata": {},
   "outputs": [],
   "source": [
    "counter = collections.Counter()"
   ]
  },
  {
   "cell_type": "code",
   "execution_count": null,
   "metadata": {},
   "outputs": [],
   "source": []
  },
  {
   "cell_type": "code",
   "execution_count": 15,
   "metadata": {},
   "outputs": [
    {
     "data": {
      "text/html": [
       "<div>\n",
       "<style scoped>\n",
       "    .dataframe tbody tr th:only-of-type {\n",
       "        vertical-align: middle;\n",
       "    }\n",
       "\n",
       "    .dataframe tbody tr th {\n",
       "        vertical-align: top;\n",
       "    }\n",
       "\n",
       "    .dataframe thead th {\n",
       "        text-align: right;\n",
       "    }\n",
       "</style>\n",
       "<table border=\"1\" class=\"dataframe\">\n",
       "  <thead>\n",
       "    <tr style=\"text-align: right;\">\n",
       "      <th>CLOSE_MONTH</th>\n",
       "      <th>201503</th>\n",
       "      <th>201504</th>\n",
       "      <th>201505</th>\n",
       "      <th>201506</th>\n",
       "      <th>201507</th>\n",
       "      <th>201508</th>\n",
       "      <th>201509</th>\n",
       "      <th>201510</th>\n",
       "      <th>201511</th>\n",
       "      <th>201512</th>\n",
       "      <th>...</th>\n",
       "      <th>201708</th>\n",
       "      <th>201709</th>\n",
       "      <th>201710</th>\n",
       "      <th>201711</th>\n",
       "      <th>201712</th>\n",
       "      <th>201801</th>\n",
       "      <th>201802</th>\n",
       "      <th>201803</th>\n",
       "      <th>201804</th>\n",
       "      <th>201805</th>\n",
       "    </tr>\n",
       "    <tr>\n",
       "      <th>CID</th>\n",
       "      <th></th>\n",
       "      <th></th>\n",
       "      <th></th>\n",
       "      <th></th>\n",
       "      <th></th>\n",
       "      <th></th>\n",
       "      <th></th>\n",
       "      <th></th>\n",
       "      <th></th>\n",
       "      <th></th>\n",
       "      <th></th>\n",
       "      <th></th>\n",
       "      <th></th>\n",
       "      <th></th>\n",
       "      <th></th>\n",
       "      <th></th>\n",
       "      <th></th>\n",
       "      <th></th>\n",
       "      <th></th>\n",
       "      <th></th>\n",
       "      <th></th>\n",
       "    </tr>\n",
       "  </thead>\n",
       "  <tbody>\n",
       "    <tr>\n",
       "      <th>CID0000000</th>\n",
       "      <td>NaN</td>\n",
       "      <td>NaN</td>\n",
       "      <td>NaN</td>\n",
       "      <td>NaN</td>\n",
       "      <td>NaN</td>\n",
       "      <td>NaN</td>\n",
       "      <td>NaN</td>\n",
       "      <td>NaN</td>\n",
       "      <td>NaN</td>\n",
       "      <td>NaN</td>\n",
       "      <td>...</td>\n",
       "      <td>NaN</td>\n",
       "      <td>NaN</td>\n",
       "      <td>NaN</td>\n",
       "      <td>NaN</td>\n",
       "      <td>NaN</td>\n",
       "      <td>NaN</td>\n",
       "      <td>NaN</td>\n",
       "      <td>NaN</td>\n",
       "      <td>NaN</td>\n",
       "      <td>NaN</td>\n",
       "    </tr>\n",
       "    <tr>\n",
       "      <th>CID0000001</th>\n",
       "      <td>NaN</td>\n",
       "      <td>NaN</td>\n",
       "      <td>NaN</td>\n",
       "      <td>NaN</td>\n",
       "      <td>NaN</td>\n",
       "      <td>NaN</td>\n",
       "      <td>NaN</td>\n",
       "      <td>0.0</td>\n",
       "      <td>NaN</td>\n",
       "      <td>0.0</td>\n",
       "      <td>...</td>\n",
       "      <td>NaN</td>\n",
       "      <td>NaN</td>\n",
       "      <td>NaN</td>\n",
       "      <td>NaN</td>\n",
       "      <td>NaN</td>\n",
       "      <td>NaN</td>\n",
       "      <td>NaN</td>\n",
       "      <td>NaN</td>\n",
       "      <td>NaN</td>\n",
       "      <td>NaN</td>\n",
       "    </tr>\n",
       "    <tr>\n",
       "      <th>CID0000003</th>\n",
       "      <td>NaN</td>\n",
       "      <td>NaN</td>\n",
       "      <td>NaN</td>\n",
       "      <td>NaN</td>\n",
       "      <td>NaN</td>\n",
       "      <td>NaN</td>\n",
       "      <td>NaN</td>\n",
       "      <td>NaN</td>\n",
       "      <td>NaN</td>\n",
       "      <td>NaN</td>\n",
       "      <td>...</td>\n",
       "      <td>NaN</td>\n",
       "      <td>NaN</td>\n",
       "      <td>NaN</td>\n",
       "      <td>NaN</td>\n",
       "      <td>0.0</td>\n",
       "      <td>0.0</td>\n",
       "      <td>0.0</td>\n",
       "      <td>NaN</td>\n",
       "      <td>NaN</td>\n",
       "      <td>NaN</td>\n",
       "    </tr>\n",
       "    <tr>\n",
       "      <th>CID0000004</th>\n",
       "      <td>NaN</td>\n",
       "      <td>NaN</td>\n",
       "      <td>NaN</td>\n",
       "      <td>NaN</td>\n",
       "      <td>NaN</td>\n",
       "      <td>NaN</td>\n",
       "      <td>NaN</td>\n",
       "      <td>0.0</td>\n",
       "      <td>NaN</td>\n",
       "      <td>0.0</td>\n",
       "      <td>...</td>\n",
       "      <td>0.0</td>\n",
       "      <td>NaN</td>\n",
       "      <td>0.0</td>\n",
       "      <td>NaN</td>\n",
       "      <td>1.0</td>\n",
       "      <td>0.0</td>\n",
       "      <td>0.0</td>\n",
       "      <td>0.0</td>\n",
       "      <td>0.0</td>\n",
       "      <td>NaN</td>\n",
       "    </tr>\n",
       "    <tr>\n",
       "      <th>CID0000006</th>\n",
       "      <td>NaN</td>\n",
       "      <td>NaN</td>\n",
       "      <td>NaN</td>\n",
       "      <td>NaN</td>\n",
       "      <td>NaN</td>\n",
       "      <td>NaN</td>\n",
       "      <td>NaN</td>\n",
       "      <td>NaN</td>\n",
       "      <td>NaN</td>\n",
       "      <td>NaN</td>\n",
       "      <td>...</td>\n",
       "      <td>NaN</td>\n",
       "      <td>NaN</td>\n",
       "      <td>NaN</td>\n",
       "      <td>NaN</td>\n",
       "      <td>NaN</td>\n",
       "      <td>NaN</td>\n",
       "      <td>NaN</td>\n",
       "      <td>NaN</td>\n",
       "      <td>NaN</td>\n",
       "      <td>0.0</td>\n",
       "    </tr>\n",
       "  </tbody>\n",
       "</table>\n",
       "<p>5 rows × 39 columns</p>\n",
       "</div>"
      ],
      "text/plain": [
       "CLOSE_MONTH  201503  201504  201505  201506  201507  201508  201509  201510  \\\n",
       "CID                                                                           \n",
       "CID0000000      NaN     NaN     NaN     NaN     NaN     NaN     NaN     NaN   \n",
       "CID0000001      NaN     NaN     NaN     NaN     NaN     NaN     NaN     0.0   \n",
       "CID0000003      NaN     NaN     NaN     NaN     NaN     NaN     NaN     NaN   \n",
       "CID0000004      NaN     NaN     NaN     NaN     NaN     NaN     NaN     0.0   \n",
       "CID0000006      NaN     NaN     NaN     NaN     NaN     NaN     NaN     NaN   \n",
       "\n",
       "CLOSE_MONTH  201511  201512  ...  201708  201709  201710  201711  201712  \\\n",
       "CID                          ...                                           \n",
       "CID0000000      NaN     NaN  ...     NaN     NaN     NaN     NaN     NaN   \n",
       "CID0000001      NaN     0.0  ...     NaN     NaN     NaN     NaN     NaN   \n",
       "CID0000003      NaN     NaN  ...     NaN     NaN     NaN     NaN     0.0   \n",
       "CID0000004      NaN     0.0  ...     0.0     NaN     0.0     NaN     1.0   \n",
       "CID0000006      NaN     NaN  ...     NaN     NaN     NaN     NaN     NaN   \n",
       "\n",
       "CLOSE_MONTH  201801  201802  201803  201804  201805  \n",
       "CID                                                  \n",
       "CID0000000      NaN     NaN     NaN     NaN     NaN  \n",
       "CID0000001      NaN     NaN     NaN     NaN     NaN  \n",
       "CID0000003      0.0     0.0     NaN     NaN     NaN  \n",
       "CID0000004      0.0     0.0     0.0     0.0     NaN  \n",
       "CID0000006      NaN     NaN     NaN     NaN     0.0  \n",
       "\n",
       "[5 rows x 39 columns]"
      ]
     },
     "execution_count": 15,
     "metadata": {},
     "output_type": "execute_result"
    }
   ],
   "source": [
    "overdue.head()"
   ]
  },
  {
   "cell_type": "code",
   "execution_count": 30,
   "metadata": {},
   "outputs": [],
   "source": [
    "for i,j in zip(df.columns,df.columns[1:]):\n",
    "    select = (df[i].notnull()) & (df[j].notnull())\n",
    "    counter += collections.Counter(tuple(x) for x in df.loc[select, [i,j]].values)"
   ]
  },
  {
   "cell_type": "code",
   "execution_count": null,
   "metadata": {},
   "outputs": [],
   "source": [
    "# counter"
   ]
  },
  {
   "cell_type": "code",
   "execution_count": 32,
   "metadata": {},
   "outputs": [],
   "source": [
    "for key in counter.keys():\n",
    "    trans_mat.loc[key[0],key[1]] = counter[key]"
   ]
  },
  {
   "cell_type": "code",
   "execution_count": 39,
   "metadata": {},
   "outputs": [
    {
     "data": {
      "text/html": [
       "<div>\n",
       "<style scoped>\n",
       "    .dataframe tbody tr th:only-of-type {\n",
       "        vertical-align: middle;\n",
       "    }\n",
       "\n",
       "    .dataframe tbody tr th {\n",
       "        vertical-align: top;\n",
       "    }\n",
       "\n",
       "    .dataframe thead th {\n",
       "        text-align: right;\n",
       "    }\n",
       "</style>\n",
       "<table border=\"1\" class=\"dataframe\">\n",
       "  <thead>\n",
       "    <tr style=\"text-align: right;\">\n",
       "      <th></th>\n",
       "      <th>0</th>\n",
       "      <th>1</th>\n",
       "      <th>2</th>\n",
       "      <th>3</th>\n",
       "      <th>4</th>\n",
       "      <th>5</th>\n",
       "      <th>6</th>\n",
       "      <th>7</th>\n",
       "      <th>8</th>\n",
       "      <th>9</th>\n",
       "      <th>all_count</th>\n",
       "      <th>bad_count</th>\n",
       "    </tr>\n",
       "  </thead>\n",
       "  <tbody>\n",
       "    <tr>\n",
       "      <th>0</th>\n",
       "      <td>218269</td>\n",
       "      <td>78639</td>\n",
       "      <td>3232</td>\n",
       "      <td>0</td>\n",
       "      <td>0</td>\n",
       "      <td>0</td>\n",
       "      <td>0</td>\n",
       "      <td>0</td>\n",
       "      <td>2</td>\n",
       "      <td>2</td>\n",
       "      <td>300144</td>\n",
       "      <td>81875</td>\n",
       "    </tr>\n",
       "    <tr>\n",
       "      <th>1</th>\n",
       "      <td>59218</td>\n",
       "      <td>169811</td>\n",
       "      <td>20351</td>\n",
       "      <td>9020</td>\n",
       "      <td>0</td>\n",
       "      <td>16</td>\n",
       "      <td>8</td>\n",
       "      <td>8</td>\n",
       "      <td>2</td>\n",
       "      <td>6</td>\n",
       "      <td>258440</td>\n",
       "      <td>29411</td>\n",
       "    </tr>\n",
       "    <tr>\n",
       "      <th>2</th>\n",
       "      <td>556</td>\n",
       "      <td>4061</td>\n",
       "      <td>3775</td>\n",
       "      <td>17287</td>\n",
       "      <td>7</td>\n",
       "      <td>0</td>\n",
       "      <td>0</td>\n",
       "      <td>0</td>\n",
       "      <td>0</td>\n",
       "      <td>0</td>\n",
       "      <td>25686</td>\n",
       "      <td>17294</td>\n",
       "    </tr>\n",
       "    <tr>\n",
       "      <th>3</th>\n",
       "      <td>184</td>\n",
       "      <td>1233</td>\n",
       "      <td>586</td>\n",
       "      <td>1686</td>\n",
       "      <td>22226</td>\n",
       "      <td>446</td>\n",
       "      <td>0</td>\n",
       "      <td>0</td>\n",
       "      <td>0</td>\n",
       "      <td>2</td>\n",
       "      <td>26363</td>\n",
       "      <td>22674</td>\n",
       "    </tr>\n",
       "    <tr>\n",
       "      <th>4</th>\n",
       "      <td>1</td>\n",
       "      <td>20</td>\n",
       "      <td>5</td>\n",
       "      <td>0</td>\n",
       "      <td>233</td>\n",
       "      <td>13634</td>\n",
       "      <td>2803</td>\n",
       "      <td>8</td>\n",
       "      <td>0</td>\n",
       "      <td>0</td>\n",
       "      <td>16704</td>\n",
       "      <td>16445</td>\n",
       "    </tr>\n",
       "    <tr>\n",
       "      <th>5</th>\n",
       "      <td>0</td>\n",
       "      <td>2</td>\n",
       "      <td>2</td>\n",
       "      <td>0</td>\n",
       "      <td>0</td>\n",
       "      <td>211</td>\n",
       "      <td>14936</td>\n",
       "      <td>911</td>\n",
       "      <td>0</td>\n",
       "      <td>0</td>\n",
       "      <td>16062</td>\n",
       "      <td>15847</td>\n",
       "    </tr>\n",
       "    <tr>\n",
       "      <th>6</th>\n",
       "      <td>0</td>\n",
       "      <td>0</td>\n",
       "      <td>0</td>\n",
       "      <td>2</td>\n",
       "      <td>0</td>\n",
       "      <td>0</td>\n",
       "      <td>179</td>\n",
       "      <td>17223</td>\n",
       "      <td>9</td>\n",
       "      <td>8</td>\n",
       "      <td>17421</td>\n",
       "      <td>17240</td>\n",
       "    </tr>\n",
       "    <tr>\n",
       "      <th>7</th>\n",
       "      <td>0</td>\n",
       "      <td>8</td>\n",
       "      <td>0</td>\n",
       "      <td>0</td>\n",
       "      <td>8</td>\n",
       "      <td>0</td>\n",
       "      <td>8</td>\n",
       "      <td>1292</td>\n",
       "      <td>14262</td>\n",
       "      <td>4</td>\n",
       "      <td>15582</td>\n",
       "      <td>14266</td>\n",
       "    </tr>\n",
       "    <tr>\n",
       "      <th>8</th>\n",
       "      <td>2</td>\n",
       "      <td>2</td>\n",
       "      <td>0</td>\n",
       "      <td>0</td>\n",
       "      <td>0</td>\n",
       "      <td>0</td>\n",
       "      <td>2</td>\n",
       "      <td>4</td>\n",
       "      <td>98</td>\n",
       "      <td>12527</td>\n",
       "      <td>12635</td>\n",
       "      <td>12527</td>\n",
       "    </tr>\n",
       "    <tr>\n",
       "      <th>9</th>\n",
       "      <td>0</td>\n",
       "      <td>10</td>\n",
       "      <td>2</td>\n",
       "      <td>4</td>\n",
       "      <td>0</td>\n",
       "      <td>4</td>\n",
       "      <td>8</td>\n",
       "      <td>12</td>\n",
       "      <td>22</td>\n",
       "      <td>247</td>\n",
       "      <td>309</td>\n",
       "      <td>0</td>\n",
       "    </tr>\n",
       "  </tbody>\n",
       "</table>\n",
       "</div>"
      ],
      "text/plain": [
       "        0       1      2      3      4      5      6      7      8      9  \\\n",
       "0  218269   78639   3232      0      0      0      0      0      2      2   \n",
       "1   59218  169811  20351   9020      0     16      8      8      2      6   \n",
       "2     556    4061   3775  17287      7      0      0      0      0      0   \n",
       "3     184    1233    586   1686  22226    446      0      0      0      2   \n",
       "4       1      20      5      0    233  13634   2803      8      0      0   \n",
       "5       0       2      2      0      0    211  14936    911      0      0   \n",
       "6       0       0      0      2      0      0    179  17223      9      8   \n",
       "7       0       8      0      0      8      0      8   1292  14262      4   \n",
       "8       2       2      0      0      0      0      2      4     98  12527   \n",
       "9       0      10      2      4      0      4      8     12     22    247   \n",
       "\n",
       "   all_count  bad_count  \n",
       "0     300144      81875  \n",
       "1     258440      29411  \n",
       "2      25686      17294  \n",
       "3      26363      22674  \n",
       "4      16704      16445  \n",
       "5      16062      15847  \n",
       "6      17421      17240  \n",
       "7      15582      14266  \n",
       "8      12635      12527  \n",
       "9        309          0  "
      ]
     },
     "execution_count": 39,
     "metadata": {},
     "output_type": "execute_result"
    }
   ],
   "source": [
    "trans_mat"
   ]
  },
  {
   "cell_type": "code",
   "execution_count": null,
   "metadata": {},
   "outputs": [],
   "source": []
  },
  {
   "cell_type": "code",
   "execution_count": 34,
   "metadata": {},
   "outputs": [],
   "source": [
    "trans_mat[\"all_count\"] = trans_mat.apply(sum, axis=1)"
   ]
  },
  {
   "cell_type": "code",
   "execution_count": 36,
   "metadata": {},
   "outputs": [],
   "source": [
    "bad_count = []\n",
    "for j in range(10):\n",
    "    bad_count.append(trans_mat.iloc[j,j+1:10].sum())"
   ]
  },
  {
   "cell_type": "code",
   "execution_count": 37,
   "metadata": {},
   "outputs": [
    {
     "data": {
      "text/plain": [
       "[81875, 29411, 17294, 22674, 16445, 15847, 17240, 14266, 12527, 0]"
      ]
     },
     "execution_count": 37,
     "metadata": {},
     "output_type": "execute_result"
    }
   ],
   "source": [
    "bad_count"
   ]
  },
  {
   "cell_type": "code",
   "execution_count": 38,
   "metadata": {},
   "outputs": [],
   "source": [
    "trans_mat[\"bad_count\"] = bad_count"
   ]
  },
  {
   "cell_type": "code",
   "execution_count": null,
   "metadata": {},
   "outputs": [],
   "source": []
  },
  {
   "cell_type": "code",
   "execution_count": 40,
   "metadata": {},
   "outputs": [],
   "source": [
    "trans_mat[\"to_bad\"] = trans_mat[\"bad_count\"]/trans_mat[\"all_count\"]"
   ]
  },
  {
   "cell_type": "code",
   "execution_count": 41,
   "metadata": {},
   "outputs": [
    {
     "data": {
      "text/html": [
       "<div>\n",
       "<style scoped>\n",
       "    .dataframe tbody tr th:only-of-type {\n",
       "        vertical-align: middle;\n",
       "    }\n",
       "\n",
       "    .dataframe tbody tr th {\n",
       "        vertical-align: top;\n",
       "    }\n",
       "\n",
       "    .dataframe thead th {\n",
       "        text-align: right;\n",
       "    }\n",
       "</style>\n",
       "<table border=\"1\" class=\"dataframe\">\n",
       "  <thead>\n",
       "    <tr style=\"text-align: right;\">\n",
       "      <th></th>\n",
       "      <th>0</th>\n",
       "      <th>1</th>\n",
       "      <th>2</th>\n",
       "      <th>3</th>\n",
       "      <th>4</th>\n",
       "      <th>5</th>\n",
       "      <th>6</th>\n",
       "      <th>7</th>\n",
       "      <th>8</th>\n",
       "      <th>9</th>\n",
       "      <th>all_count</th>\n",
       "      <th>bad_count</th>\n",
       "      <th>to_bad</th>\n",
       "    </tr>\n",
       "  </thead>\n",
       "  <tbody>\n",
       "    <tr>\n",
       "      <th>0</th>\n",
       "      <td>218269</td>\n",
       "      <td>78639</td>\n",
       "      <td>3232</td>\n",
       "      <td>0</td>\n",
       "      <td>0</td>\n",
       "      <td>0</td>\n",
       "      <td>0</td>\n",
       "      <td>0</td>\n",
       "      <td>2</td>\n",
       "      <td>2</td>\n",
       "      <td>300144</td>\n",
       "      <td>81875</td>\n",
       "      <td>0.272786</td>\n",
       "    </tr>\n",
       "    <tr>\n",
       "      <th>1</th>\n",
       "      <td>59218</td>\n",
       "      <td>169811</td>\n",
       "      <td>20351</td>\n",
       "      <td>9020</td>\n",
       "      <td>0</td>\n",
       "      <td>16</td>\n",
       "      <td>8</td>\n",
       "      <td>8</td>\n",
       "      <td>2</td>\n",
       "      <td>6</td>\n",
       "      <td>258440</td>\n",
       "      <td>29411</td>\n",
       "      <td>0.113802</td>\n",
       "    </tr>\n",
       "    <tr>\n",
       "      <th>2</th>\n",
       "      <td>556</td>\n",
       "      <td>4061</td>\n",
       "      <td>3775</td>\n",
       "      <td>17287</td>\n",
       "      <td>7</td>\n",
       "      <td>0</td>\n",
       "      <td>0</td>\n",
       "      <td>0</td>\n",
       "      <td>0</td>\n",
       "      <td>0</td>\n",
       "      <td>25686</td>\n",
       "      <td>17294</td>\n",
       "      <td>0.673285</td>\n",
       "    </tr>\n",
       "    <tr>\n",
       "      <th>3</th>\n",
       "      <td>184</td>\n",
       "      <td>1233</td>\n",
       "      <td>586</td>\n",
       "      <td>1686</td>\n",
       "      <td>22226</td>\n",
       "      <td>446</td>\n",
       "      <td>0</td>\n",
       "      <td>0</td>\n",
       "      <td>0</td>\n",
       "      <td>2</td>\n",
       "      <td>26363</td>\n",
       "      <td>22674</td>\n",
       "      <td>0.860069</td>\n",
       "    </tr>\n",
       "    <tr>\n",
       "      <th>4</th>\n",
       "      <td>1</td>\n",
       "      <td>20</td>\n",
       "      <td>5</td>\n",
       "      <td>0</td>\n",
       "      <td>233</td>\n",
       "      <td>13634</td>\n",
       "      <td>2803</td>\n",
       "      <td>8</td>\n",
       "      <td>0</td>\n",
       "      <td>0</td>\n",
       "      <td>16704</td>\n",
       "      <td>16445</td>\n",
       "      <td>0.984495</td>\n",
       "    </tr>\n",
       "    <tr>\n",
       "      <th>5</th>\n",
       "      <td>0</td>\n",
       "      <td>2</td>\n",
       "      <td>2</td>\n",
       "      <td>0</td>\n",
       "      <td>0</td>\n",
       "      <td>211</td>\n",
       "      <td>14936</td>\n",
       "      <td>911</td>\n",
       "      <td>0</td>\n",
       "      <td>0</td>\n",
       "      <td>16062</td>\n",
       "      <td>15847</td>\n",
       "      <td>0.986614</td>\n",
       "    </tr>\n",
       "    <tr>\n",
       "      <th>6</th>\n",
       "      <td>0</td>\n",
       "      <td>0</td>\n",
       "      <td>0</td>\n",
       "      <td>2</td>\n",
       "      <td>0</td>\n",
       "      <td>0</td>\n",
       "      <td>179</td>\n",
       "      <td>17223</td>\n",
       "      <td>9</td>\n",
       "      <td>8</td>\n",
       "      <td>17421</td>\n",
       "      <td>17240</td>\n",
       "      <td>0.989610</td>\n",
       "    </tr>\n",
       "    <tr>\n",
       "      <th>7</th>\n",
       "      <td>0</td>\n",
       "      <td>8</td>\n",
       "      <td>0</td>\n",
       "      <td>0</td>\n",
       "      <td>8</td>\n",
       "      <td>0</td>\n",
       "      <td>8</td>\n",
       "      <td>1292</td>\n",
       "      <td>14262</td>\n",
       "      <td>4</td>\n",
       "      <td>15582</td>\n",
       "      <td>14266</td>\n",
       "      <td>0.915544</td>\n",
       "    </tr>\n",
       "    <tr>\n",
       "      <th>8</th>\n",
       "      <td>2</td>\n",
       "      <td>2</td>\n",
       "      <td>0</td>\n",
       "      <td>0</td>\n",
       "      <td>0</td>\n",
       "      <td>0</td>\n",
       "      <td>2</td>\n",
       "      <td>4</td>\n",
       "      <td>98</td>\n",
       "      <td>12527</td>\n",
       "      <td>12635</td>\n",
       "      <td>12527</td>\n",
       "      <td>0.991452</td>\n",
       "    </tr>\n",
       "    <tr>\n",
       "      <th>9</th>\n",
       "      <td>0</td>\n",
       "      <td>10</td>\n",
       "      <td>2</td>\n",
       "      <td>4</td>\n",
       "      <td>0</td>\n",
       "      <td>4</td>\n",
       "      <td>8</td>\n",
       "      <td>12</td>\n",
       "      <td>22</td>\n",
       "      <td>247</td>\n",
       "      <td>309</td>\n",
       "      <td>0</td>\n",
       "      <td>0.000000</td>\n",
       "    </tr>\n",
       "  </tbody>\n",
       "</table>\n",
       "</div>"
      ],
      "text/plain": [
       "        0       1      2      3      4      5      6      7      8      9  \\\n",
       "0  218269   78639   3232      0      0      0      0      0      2      2   \n",
       "1   59218  169811  20351   9020      0     16      8      8      2      6   \n",
       "2     556    4061   3775  17287      7      0      0      0      0      0   \n",
       "3     184    1233    586   1686  22226    446      0      0      0      2   \n",
       "4       1      20      5      0    233  13634   2803      8      0      0   \n",
       "5       0       2      2      0      0    211  14936    911      0      0   \n",
       "6       0       0      0      2      0      0    179  17223      9      8   \n",
       "7       0       8      0      0      8      0      8   1292  14262      4   \n",
       "8       2       2      0      0      0      0      2      4     98  12527   \n",
       "9       0      10      2      4      0      4      8     12     22    247   \n",
       "\n",
       "   all_count  bad_count    to_bad  \n",
       "0     300144      81875  0.272786  \n",
       "1     258440      29411  0.113802  \n",
       "2      25686      17294  0.673285  \n",
       "3      26363      22674  0.860069  \n",
       "4      16704      16445  0.984495  \n",
       "5      16062      15847  0.986614  \n",
       "6      17421      17240  0.989610  \n",
       "7      15582      14266  0.915544  \n",
       "8      12635      12527  0.991452  \n",
       "9        309          0  0.000000  "
      ]
     },
     "execution_count": 41,
     "metadata": {},
     "output_type": "execute_result"
    }
   ],
   "source": [
    "trans_mat"
   ]
  },
  {
   "cell_type": "code",
   "execution_count": null,
   "metadata": {},
   "outputs": [],
   "source": []
  },
  {
   "cell_type": "code",
   "execution_count": 16,
   "metadata": {},
   "outputs": [],
   "source": [
    "import collections\n",
    "def get_mat(df):\n",
    "    \"\"\"\n",
    "    构建转移矩阵，索引表示转移前的逾期状态，\n",
    "    列名表示转移后的逾期状态。\n",
    "    \"\"\"\n",
    "    trans_mat = pd.DataFrame(data=0,columns=range(0,10),index=range(0,10))\n",
    "    counter = collections.Counter()\n",
    "    for i,j in zip(df.columns,df.columns[1:]):\n",
    "        select = (df[i].notnull()) & (df[j].notnull())\n",
    "        counter += collections.Counter(tuple(x) for x in df.loc[select, [i,j]].values)\n",
    "    for key in counter.keys():\n",
    "        trans_mat.loc[key[0],key[1]] = counter[key]\n",
    "    trans_mat[\"all_count\"] = trans_mat.apply(sum, axis=1)\n",
    "    bad_count = []\n",
    "    for j in range(10):\n",
    "        bad_count.append(trans_mat.iloc[j,j+1:10].sum())\n",
    "    trans_mat[\"bad_count\"] = bad_count\n",
    "    trans_mat[\"to_bad\"] = trans_mat[\"bad_count\"]/trans_mat[\"all_count\"]\n",
    "    return trans_mat"
   ]
  },
  {
   "cell_type": "code",
   "execution_count": 17,
   "metadata": {},
   "outputs": [
    {
     "data": {
      "text/html": [
       "<div>\n",
       "<style scoped>\n",
       "    .dataframe tbody tr th:only-of-type {\n",
       "        vertical-align: middle;\n",
       "    }\n",
       "\n",
       "    .dataframe tbody tr th {\n",
       "        vertical-align: top;\n",
       "    }\n",
       "\n",
       "    .dataframe thead th {\n",
       "        text-align: right;\n",
       "    }\n",
       "</style>\n",
       "<table border=\"1\" class=\"dataframe\">\n",
       "  <thead>\n",
       "    <tr style=\"text-align: right;\">\n",
       "      <th></th>\n",
       "      <th>0</th>\n",
       "      <th>1</th>\n",
       "      <th>2</th>\n",
       "      <th>3</th>\n",
       "      <th>4</th>\n",
       "      <th>5</th>\n",
       "      <th>6</th>\n",
       "      <th>7</th>\n",
       "      <th>8</th>\n",
       "      <th>9</th>\n",
       "      <th>all_count</th>\n",
       "      <th>bad_count</th>\n",
       "      <th>to_bad</th>\n",
       "    </tr>\n",
       "  </thead>\n",
       "  <tbody>\n",
       "    <tr>\n",
       "      <th>0</th>\n",
       "      <td>218269</td>\n",
       "      <td>78639</td>\n",
       "      <td>3232</td>\n",
       "      <td>0</td>\n",
       "      <td>0</td>\n",
       "      <td>0</td>\n",
       "      <td>0</td>\n",
       "      <td>0</td>\n",
       "      <td>2</td>\n",
       "      <td>2</td>\n",
       "      <td>300144</td>\n",
       "      <td>81875</td>\n",
       "      <td>0.272786</td>\n",
       "    </tr>\n",
       "    <tr>\n",
       "      <th>1</th>\n",
       "      <td>59218</td>\n",
       "      <td>169811</td>\n",
       "      <td>20351</td>\n",
       "      <td>9020</td>\n",
       "      <td>0</td>\n",
       "      <td>16</td>\n",
       "      <td>8</td>\n",
       "      <td>8</td>\n",
       "      <td>2</td>\n",
       "      <td>6</td>\n",
       "      <td>258440</td>\n",
       "      <td>29411</td>\n",
       "      <td>0.113802</td>\n",
       "    </tr>\n",
       "    <tr>\n",
       "      <th>2</th>\n",
       "      <td>556</td>\n",
       "      <td>4061</td>\n",
       "      <td>3775</td>\n",
       "      <td>17287</td>\n",
       "      <td>7</td>\n",
       "      <td>0</td>\n",
       "      <td>0</td>\n",
       "      <td>0</td>\n",
       "      <td>0</td>\n",
       "      <td>0</td>\n",
       "      <td>25686</td>\n",
       "      <td>17294</td>\n",
       "      <td>0.673285</td>\n",
       "    </tr>\n",
       "    <tr>\n",
       "      <th>3</th>\n",
       "      <td>184</td>\n",
       "      <td>1233</td>\n",
       "      <td>586</td>\n",
       "      <td>1686</td>\n",
       "      <td>22226</td>\n",
       "      <td>446</td>\n",
       "      <td>0</td>\n",
       "      <td>0</td>\n",
       "      <td>0</td>\n",
       "      <td>2</td>\n",
       "      <td>26363</td>\n",
       "      <td>22674</td>\n",
       "      <td>0.860069</td>\n",
       "    </tr>\n",
       "    <tr>\n",
       "      <th>4</th>\n",
       "      <td>1</td>\n",
       "      <td>20</td>\n",
       "      <td>5</td>\n",
       "      <td>0</td>\n",
       "      <td>233</td>\n",
       "      <td>13634</td>\n",
       "      <td>2803</td>\n",
       "      <td>8</td>\n",
       "      <td>0</td>\n",
       "      <td>0</td>\n",
       "      <td>16704</td>\n",
       "      <td>16445</td>\n",
       "      <td>0.984495</td>\n",
       "    </tr>\n",
       "    <tr>\n",
       "      <th>5</th>\n",
       "      <td>0</td>\n",
       "      <td>2</td>\n",
       "      <td>2</td>\n",
       "      <td>0</td>\n",
       "      <td>0</td>\n",
       "      <td>211</td>\n",
       "      <td>14936</td>\n",
       "      <td>911</td>\n",
       "      <td>0</td>\n",
       "      <td>0</td>\n",
       "      <td>16062</td>\n",
       "      <td>15847</td>\n",
       "      <td>0.986614</td>\n",
       "    </tr>\n",
       "    <tr>\n",
       "      <th>6</th>\n",
       "      <td>0</td>\n",
       "      <td>0</td>\n",
       "      <td>0</td>\n",
       "      <td>2</td>\n",
       "      <td>0</td>\n",
       "      <td>0</td>\n",
       "      <td>179</td>\n",
       "      <td>17223</td>\n",
       "      <td>9</td>\n",
       "      <td>8</td>\n",
       "      <td>17421</td>\n",
       "      <td>17240</td>\n",
       "      <td>0.989610</td>\n",
       "    </tr>\n",
       "    <tr>\n",
       "      <th>7</th>\n",
       "      <td>0</td>\n",
       "      <td>8</td>\n",
       "      <td>0</td>\n",
       "      <td>0</td>\n",
       "      <td>8</td>\n",
       "      <td>0</td>\n",
       "      <td>8</td>\n",
       "      <td>1292</td>\n",
       "      <td>14262</td>\n",
       "      <td>4</td>\n",
       "      <td>15582</td>\n",
       "      <td>14266</td>\n",
       "      <td>0.915544</td>\n",
       "    </tr>\n",
       "    <tr>\n",
       "      <th>8</th>\n",
       "      <td>2</td>\n",
       "      <td>2</td>\n",
       "      <td>0</td>\n",
       "      <td>0</td>\n",
       "      <td>0</td>\n",
       "      <td>0</td>\n",
       "      <td>2</td>\n",
       "      <td>4</td>\n",
       "      <td>98</td>\n",
       "      <td>12527</td>\n",
       "      <td>12635</td>\n",
       "      <td>12527</td>\n",
       "      <td>0.991452</td>\n",
       "    </tr>\n",
       "    <tr>\n",
       "      <th>9</th>\n",
       "      <td>0</td>\n",
       "      <td>10</td>\n",
       "      <td>2</td>\n",
       "      <td>4</td>\n",
       "      <td>0</td>\n",
       "      <td>4</td>\n",
       "      <td>8</td>\n",
       "      <td>12</td>\n",
       "      <td>22</td>\n",
       "      <td>247</td>\n",
       "      <td>309</td>\n",
       "      <td>0</td>\n",
       "      <td>0.000000</td>\n",
       "    </tr>\n",
       "  </tbody>\n",
       "</table>\n",
       "</div>"
      ],
      "text/plain": [
       "        0       1      2      3      4      5      6      7      8      9  \\\n",
       "0  218269   78639   3232      0      0      0      0      0      2      2   \n",
       "1   59218  169811  20351   9020      0     16      8      8      2      6   \n",
       "2     556    4061   3775  17287      7      0      0      0      0      0   \n",
       "3     184    1233    586   1686  22226    446      0      0      0      2   \n",
       "4       1      20      5      0    233  13634   2803      8      0      0   \n",
       "5       0       2      2      0      0    211  14936    911      0      0   \n",
       "6       0       0      0      2      0      0    179  17223      9      8   \n",
       "7       0       8      0      0      8      0      8   1292  14262      4   \n",
       "8       2       2      0      0      0      0      2      4     98  12527   \n",
       "9       0      10      2      4      0      4      8     12     22    247   \n",
       "\n",
       "   all_count  bad_count    to_bad  \n",
       "0     300144      81875  0.272786  \n",
       "1     258440      29411  0.113802  \n",
       "2      25686      17294  0.673285  \n",
       "3      26363      22674  0.860069  \n",
       "4      16704      16445  0.984495  \n",
       "5      16062      15847  0.986614  \n",
       "6      17421      17240  0.989610  \n",
       "7      15582      14266  0.915544  \n",
       "8      12635      12527  0.991452  \n",
       "9        309          0  0.000000  "
      ]
     },
     "execution_count": 17,
     "metadata": {},
     "output_type": "execute_result"
    }
   ],
   "source": [
    "get_mat(overdue)"
   ]
  },
  {
   "cell_type": "code",
   "execution_count": 44,
   "metadata": {},
   "outputs": [],
   "source": [
    "first_use = pd.read_csv(\"./data/CreditFirstUse.csv\",encoding=\"utf8\")"
   ]
  },
  {
   "cell_type": "code",
   "execution_count": 45,
   "metadata": {},
   "outputs": [
    {
     "data": {
      "text/html": [
       "<div>\n",
       "<style scoped>\n",
       "    .dataframe tbody tr th:only-of-type {\n",
       "        vertical-align: middle;\n",
       "    }\n",
       "\n",
       "    .dataframe tbody tr th {\n",
       "        vertical-align: top;\n",
       "    }\n",
       "\n",
       "    .dataframe thead th {\n",
       "        text-align: right;\n",
       "    }\n",
       "</style>\n",
       "<table border=\"1\" class=\"dataframe\">\n",
       "  <thead>\n",
       "    <tr style=\"text-align: right;\">\n",
       "      <th></th>\n",
       "      <th>CID</th>\n",
       "      <th>FST_USE_DT</th>\n",
       "    </tr>\n",
       "  </thead>\n",
       "  <tbody>\n",
       "    <tr>\n",
       "      <th>0</th>\n",
       "      <td>CID0092102</td>\n",
       "      <td>20161116</td>\n",
       "    </tr>\n",
       "    <tr>\n",
       "      <th>1</th>\n",
       "      <td>CID0111878</td>\n",
       "      <td>20161118</td>\n",
       "    </tr>\n",
       "    <tr>\n",
       "      <th>2</th>\n",
       "      <td>CID0264977</td>\n",
       "      <td>20161120</td>\n",
       "    </tr>\n",
       "    <tr>\n",
       "      <th>3</th>\n",
       "      <td>CID0059996</td>\n",
       "      <td>20160907</td>\n",
       "    </tr>\n",
       "    <tr>\n",
       "      <th>4</th>\n",
       "      <td>CID0057096</td>\n",
       "      <td>20160910</td>\n",
       "    </tr>\n",
       "  </tbody>\n",
       "</table>\n",
       "</div>"
      ],
      "text/plain": [
       "          CID  FST_USE_DT\n",
       "0  CID0092102    20161116\n",
       "1  CID0111878    20161118\n",
       "2  CID0264977    20161120\n",
       "3  CID0059996    20160907\n",
       "4  CID0057096    20160910"
      ]
     },
     "execution_count": 45,
     "metadata": {},
     "output_type": "execute_result"
    }
   ],
   "source": [
    "first_use.head()"
   ]
  },
  {
   "cell_type": "code",
   "execution_count": 46,
   "metadata": {},
   "outputs": [
    {
     "data": {
      "text/html": [
       "<div>\n",
       "<style scoped>\n",
       "    .dataframe tbody tr th:only-of-type {\n",
       "        vertical-align: middle;\n",
       "    }\n",
       "\n",
       "    .dataframe tbody tr th {\n",
       "        vertical-align: top;\n",
       "    }\n",
       "\n",
       "    .dataframe thead th {\n",
       "        text-align: right;\n",
       "    }\n",
       "</style>\n",
       "<table border=\"1\" class=\"dataframe\">\n",
       "  <thead>\n",
       "    <tr style=\"text-align: right;\">\n",
       "      <th></th>\n",
       "      <th>FST_USE_DT</th>\n",
       "      <th>FST_USE_MONTH</th>\n",
       "    </tr>\n",
       "    <tr>\n",
       "      <th>CID</th>\n",
       "      <th></th>\n",
       "      <th></th>\n",
       "    </tr>\n",
       "  </thead>\n",
       "  <tbody>\n",
       "    <tr>\n",
       "      <th>CID0092102</th>\n",
       "      <td>20161116</td>\n",
       "      <td>201611</td>\n",
       "    </tr>\n",
       "    <tr>\n",
       "      <th>CID0111878</th>\n",
       "      <td>20161118</td>\n",
       "      <td>201611</td>\n",
       "    </tr>\n",
       "    <tr>\n",
       "      <th>CID0264977</th>\n",
       "      <td>20161120</td>\n",
       "      <td>201611</td>\n",
       "    </tr>\n",
       "    <tr>\n",
       "      <th>CID0059996</th>\n",
       "      <td>20160907</td>\n",
       "      <td>201609</td>\n",
       "    </tr>\n",
       "    <tr>\n",
       "      <th>CID0057096</th>\n",
       "      <td>20160910</td>\n",
       "      <td>201609</td>\n",
       "    </tr>\n",
       "  </tbody>\n",
       "</table>\n",
       "</div>"
      ],
      "text/plain": [
       "            FST_USE_DT  FST_USE_MONTH\n",
       "CID                                  \n",
       "CID0092102    20161116         201611\n",
       "CID0111878    20161118         201611\n",
       "CID0264977    20161120         201611\n",
       "CID0059996    20160907         201609\n",
       "CID0057096    20160910         201609"
      ]
     },
     "execution_count": 46,
     "metadata": {},
     "output_type": "execute_result"
    }
   ],
   "source": [
    "first_use.set_index(\"CID\",inplace=True)\n",
    "first_use[\"FST_USE_MONTH\"] = first_use.FST_USE_DT.map(lambda x:x//100)\n",
    "first_use.head()"
   ]
  },
  {
   "cell_type": "code",
   "execution_count": 47,
   "metadata": {},
   "outputs": [],
   "source": [
    "# 计算每笔订单第一次出现逾期的月份索引位置\n",
    "def get_first_overdue(ser):\n",
    "    array = np.where(ser >= 2)[0]\n",
    "    if array.size > 0:\n",
    "        return array[0]\n",
    "    else:\n",
    "        return np.nan"
   ]
  },
  {
   "cell_type": "code",
   "execution_count": 70,
   "metadata": {},
   "outputs": [],
   "source": [
    "ser = overdue.iloc[18,:]"
   ]
  },
  {
   "cell_type": "code",
   "execution_count": 71,
   "metadata": {},
   "outputs": [
    {
     "data": {
      "text/plain": [
       "(array([], dtype=int64),)"
      ]
     },
     "execution_count": 71,
     "metadata": {},
     "output_type": "execute_result"
    }
   ],
   "source": [
    "array = np.where(ser >= 2)\n",
    "array"
   ]
  },
  {
   "cell_type": "code",
   "execution_count": 67,
   "metadata": {},
   "outputs": [],
   "source": [
    "np.where?"
   ]
  },
  {
   "cell_type": "code",
   "execution_count": 80,
   "metadata": {},
   "outputs": [],
   "source": [
    "a = ser >= 2"
   ]
  },
  {
   "cell_type": "code",
   "execution_count": 81,
   "metadata": {},
   "outputs": [],
   "source": [
    "a.nonzero?"
   ]
  },
  {
   "cell_type": "code",
   "execution_count": 78,
   "metadata": {},
   "outputs": [],
   "source": [
    "array = np.where(ser >= 2)#[0]"
   ]
  },
  {
   "cell_type": "code",
   "execution_count": 79,
   "metadata": {},
   "outputs": [
    {
     "data": {
      "text/plain": [
       "(array([], dtype=int64),)"
      ]
     },
     "execution_count": 79,
     "metadata": {},
     "output_type": "execute_result"
    }
   ],
   "source": [
    "array"
   ]
  },
  {
   "cell_type": "code",
   "execution_count": 48,
   "metadata": {},
   "outputs": [],
   "source": [
    "OVERDUE_INDEX = overdue.apply(get_first_overdue, axis=1)\n",
    "# 用时约 1 ～ 2 分钟"
   ]
  },
  {
   "cell_type": "code",
   "execution_count": 51,
   "metadata": {
    "collapsed": true
   },
   "outputs": [
    {
     "data": {
      "text/plain": [
       "[(0, 201503),\n",
       " (1, 201504),\n",
       " (2, 201505),\n",
       " (3, 201506),\n",
       " (4, 201507),\n",
       " (5, 201508),\n",
       " (6, 201509),\n",
       " (7, 201510),\n",
       " (8, 201511),\n",
       " (9, 201512),\n",
       " (10, 201601),\n",
       " (11, 201602),\n",
       " (12, 201603),\n",
       " (13, 201604),\n",
       " (14, 201605),\n",
       " (15, 201606),\n",
       " (16, 201607),\n",
       " (17, 201608),\n",
       " (18, 201609),\n",
       " (19, 201610),\n",
       " (20, 201611),\n",
       " (21, 201612),\n",
       " (22, 201701),\n",
       " (23, 201702),\n",
       " (24, 201703),\n",
       " (25, 201704),\n",
       " (26, 201705),\n",
       " (27, 201706),\n",
       " (28, 201707),\n",
       " (29, 201708),\n",
       " (30, 201709),\n",
       " (31, 201710),\n",
       " (32, 201711),\n",
       " (33, 201712),\n",
       " (34, 201801),\n",
       " (35, 201802),\n",
       " (36, 201803),\n",
       " (37, 201804),\n",
       " (38, 201805)]"
      ]
     },
     "execution_count": 51,
     "metadata": {},
     "output_type": "execute_result"
    }
   ],
   "source": [
    "[*enumerate(overdue.columns)]"
   ]
  },
  {
   "cell_type": "code",
   "execution_count": 49,
   "metadata": {},
   "outputs": [],
   "source": [
    "first_use[\"OVERDUE_INDEX\"] = OVERDUE_INDEX"
   ]
  },
  {
   "cell_type": "code",
   "execution_count": 50,
   "metadata": {},
   "outputs": [
    {
     "data": {
      "text/html": [
       "<div>\n",
       "<style scoped>\n",
       "    .dataframe tbody tr th:only-of-type {\n",
       "        vertical-align: middle;\n",
       "    }\n",
       "\n",
       "    .dataframe tbody tr th {\n",
       "        vertical-align: top;\n",
       "    }\n",
       "\n",
       "    .dataframe thead th {\n",
       "        text-align: right;\n",
       "    }\n",
       "</style>\n",
       "<table border=\"1\" class=\"dataframe\">\n",
       "  <thead>\n",
       "    <tr style=\"text-align: right;\">\n",
       "      <th></th>\n",
       "      <th>FST_USE_DT</th>\n",
       "      <th>FST_USE_MONTH</th>\n",
       "      <th>OVERDUE_INDEX</th>\n",
       "      <th>START_INDEX</th>\n",
       "    </tr>\n",
       "    <tr>\n",
       "      <th>CID</th>\n",
       "      <th></th>\n",
       "      <th></th>\n",
       "      <th></th>\n",
       "      <th></th>\n",
       "    </tr>\n",
       "  </thead>\n",
       "  <tbody>\n",
       "    <tr>\n",
       "      <th>CID0082006</th>\n",
       "      <td>20160906</td>\n",
       "      <td>201609</td>\n",
       "      <td>26.0</td>\n",
       "      <td>18.0</td>\n",
       "    </tr>\n",
       "    <tr>\n",
       "      <th>CID0383647</th>\n",
       "      <td>20160906</td>\n",
       "      <td>201609</td>\n",
       "      <td>29.0</td>\n",
       "      <td>18.0</td>\n",
       "    </tr>\n",
       "    <tr>\n",
       "      <th>CID0006192</th>\n",
       "      <td>20161022</td>\n",
       "      <td>201610</td>\n",
       "      <td>28.0</td>\n",
       "      <td>19.0</td>\n",
       "    </tr>\n",
       "    <tr>\n",
       "      <th>CID0348120</th>\n",
       "      <td>20161122</td>\n",
       "      <td>201611</td>\n",
       "      <td>33.0</td>\n",
       "      <td>20.0</td>\n",
       "    </tr>\n",
       "    <tr>\n",
       "      <th>CID0155834</th>\n",
       "      <td>20161123</td>\n",
       "      <td>201611</td>\n",
       "      <td>28.0</td>\n",
       "      <td>20.0</td>\n",
       "    </tr>\n",
       "  </tbody>\n",
       "</table>\n",
       "</div>"
      ],
      "text/plain": [
       "            FST_USE_DT  FST_USE_MONTH  OVERDUE_INDEX  START_INDEX\n",
       "CID                                                              \n",
       "CID0082006    20160906         201609           26.0         18.0\n",
       "CID0383647    20160906         201609           29.0         18.0\n",
       "CID0006192    20161022         201610           28.0         19.0\n",
       "CID0348120    20161122         201611           33.0         20.0\n",
       "CID0155834    20161123         201611           28.0         20.0"
      ]
     },
     "execution_count": 50,
     "metadata": {},
     "output_type": "execute_result"
    }
   ],
   "source": [
    "first_use[\"START_INDEX\"] = first_use.FST_USE_MONTH.map({k:v\n",
    "    for v,k in enumerate(overdue.columns)})\n",
    "first_use.loc[first_use.OVERDUE_INDEX.notnull()].head()\n"
   ]
  },
  {
   "cell_type": "code",
   "execution_count": 52,
   "metadata": {},
   "outputs": [
    {
     "data": {
      "text/html": [
       "<div>\n",
       "<style scoped>\n",
       "    .dataframe tbody tr th:only-of-type {\n",
       "        vertical-align: middle;\n",
       "    }\n",
       "\n",
       "    .dataframe tbody tr th {\n",
       "        vertical-align: top;\n",
       "    }\n",
       "\n",
       "    .dataframe thead th {\n",
       "        text-align: right;\n",
       "    }\n",
       "</style>\n",
       "<table border=\"1\" class=\"dataframe\">\n",
       "  <thead>\n",
       "    <tr style=\"text-align: right;\">\n",
       "      <th></th>\n",
       "      <th>FST_USE_DT</th>\n",
       "      <th>FST_USE_MONTH</th>\n",
       "      <th>OVERDUE_INDEX</th>\n",
       "      <th>START_INDEX</th>\n",
       "    </tr>\n",
       "    <tr>\n",
       "      <th>CID</th>\n",
       "      <th></th>\n",
       "      <th></th>\n",
       "      <th></th>\n",
       "      <th></th>\n",
       "    </tr>\n",
       "  </thead>\n",
       "  <tbody>\n",
       "    <tr>\n",
       "      <th>CID0164451</th>\n",
       "      <td>20170722</td>\n",
       "      <td>201707</td>\n",
       "      <td>9.0</td>\n",
       "      <td>28.0</td>\n",
       "    </tr>\n",
       "  </tbody>\n",
       "</table>\n",
       "</div>"
      ],
      "text/plain": [
       "            FST_USE_DT  FST_USE_MONTH  OVERDUE_INDEX  START_INDEX\n",
       "CID                                                              \n",
       "CID0164451    20170722         201707            9.0         28.0"
      ]
     },
     "execution_count": 52,
     "metadata": {},
     "output_type": "execute_result"
    }
   ],
   "source": [
    "# 查看异常数据\n",
    "first_use[first_use.OVERDUE_INDEX < first_use.START_INDEX]"
   ]
  },
  {
   "cell_type": "code",
   "execution_count": 57,
   "metadata": {},
   "outputs": [],
   "source": [
    "month_count = (first_use.OVERDUE_INDEX - first_use.START_INDEX).value_counts().sort_index()[1:]"
   ]
  },
  {
   "cell_type": "code",
   "execution_count": 82,
   "metadata": {
    "collapsed": true
   },
   "outputs": [
    {
     "data": {
      "text/plain": [
       "1.0        1\n",
       "2.0      231\n",
       "3.0      498\n",
       "4.0      843\n",
       "5.0     1078\n",
       "6.0     1457\n",
       "7.0     1647\n",
       "8.0     2039\n",
       "9.0     2000\n",
       "10.0    1824\n",
       "11.0    1768\n",
       "12.0    1719\n",
       "13.0    1587\n",
       "14.0    1473\n",
       "15.0    1318\n",
       "16.0    1338\n",
       "17.0    1149\n",
       "18.0    1107\n",
       "19.0    1048\n",
       "20.0     855\n",
       "21.0     878\n",
       "22.0     657\n",
       "23.0     532\n",
       "24.0     552\n",
       "25.0     454\n",
       "26.0     426\n",
       "27.0     333\n",
       "28.0     342\n",
       "29.0     321\n",
       "30.0     293\n",
       "31.0     261\n",
       "32.0     207\n",
       "33.0     216\n",
       "34.0     160\n",
       "35.0     140\n",
       "36.0     128\n",
       "37.0     110\n",
       "38.0      51\n",
       "dtype: int64"
      ]
     },
     "execution_count": 82,
     "metadata": {},
     "output_type": "execute_result"
    }
   ],
   "source": [
    "month_count"
   ]
  },
  {
   "cell_type": "code",
   "execution_count": 83,
   "metadata": {},
   "outputs": [],
   "source": [
    "a = list(month_count)"
   ]
  },
  {
   "cell_type": "code",
   "execution_count": 85,
   "metadata": {},
   "outputs": [],
   "source": [
    "import matplotlib.pyplot as plt\n",
    "\n",
    "plt.plot(a)"
   ]
  },
  {
   "cell_type": "code",
   "execution_count": 84,
   "metadata": {
    "scrolled": true
   },
   "outputs": [
    {
     "data": {
      "text/plain": [
       "[1,\n",
       " 231,\n",
       " 498,\n",
       " 843,\n",
       " 1078,\n",
       " 1457,\n",
       " 1647,\n",
       " 2039,\n",
       " 2000,\n",
       " 1824,\n",
       " 1768,\n",
       " 1719,\n",
       " 1587,\n",
       " 1473,\n",
       " 1318,\n",
       " 1338,\n",
       " 1149,\n",
       " 1107,\n",
       " 1048,\n",
       " 855,\n",
       " 878,\n",
       " 657,\n",
       " 532,\n",
       " 552,\n",
       " 454,\n",
       " 426,\n",
       " 333,\n",
       " 342,\n",
       " 321,\n",
       " 293,\n",
       " 261,\n",
       " 207,\n",
       " 216,\n",
       " 160,\n",
       " 140,\n",
       " 128,\n",
       " 110,\n",
       " 51]"
      ]
     },
     "execution_count": 84,
     "metadata": {},
     "output_type": "execute_result"
    }
   ],
   "source": [
    "a"
   ]
  },
  {
   "cell_type": "code",
   "execution_count": 59,
   "metadata": {},
   "outputs": [
    {
     "data": {
      "image/png": "[encoded data removed]",
      "text/plain": [
       "<Figure size 432x288 with 1 Axes>"
      ]
     },
     "metadata": {
      "needs_background": "light"
     },
     "output_type": "display_data"
    }
   ],
   "source": [
    "month_count.plot();"
   ]
  },
  {
   "cell_type": "code",
   "execution_count": 74,
   "metadata": {},
   "outputs": [],
   "source": [
    "45;"
   ]
  },
  {
   "cell_type": "code",
   "execution_count": 75,
   "metadata": {},
   "outputs": [
    {
     "name": "stdout",
     "output_type": "stream",
     "text": [
      "45\n"
     ]
    }
   ],
   "source": [
    "print(45);"
   ]
  },
  {
   "cell_type": "code",
   "execution_count": null,
   "metadata": {},
   "outputs": [],
   "source": [
    "%matplotlib inline"
   ]
  },
  {
   "cell_type": "code",
   "execution_count": 77,
   "metadata": {
    "scrolled": true
   },
   "outputs": [
    {
     "data": {
      "image/png": "[encoded data removed]",
      "text/plain": [
       "<Figure size 432x288 with 1 Axes>"
      ]
     },
     "metadata": {
      "needs_background": "light"
     },
     "output_type": "display_data"
    }
   ],
   "source": [
    "month_count.cumsum().plot();"
   ]
  },
  {
   "cell_type": "code",
   "execution_count": null,
   "metadata": {},
   "outputs": [],
   "source": [
    "np.where"
   ]
  },
  {
   "cell_type": "code",
   "execution_count": null,
   "metadata": {},
   "outputs": [],
   "source": []
  },
  {
   "cell_type": "code",
   "execution_count": 2,
   "metadata": {},
   "outputs": [],
   "source": [
    "import pandas as pd\n",
    "import numpy as np"
   ]
  },
  {
   "cell_type": "code",
   "execution_count": 4,
   "metadata": {},
   "outputs": [
    {
     "data": {
      "text/html": [
       "<div>\n",
       "<style scoped>\n",
       "    .dataframe tbody tr th:only-of-type {\n",
       "        vertical-align: middle;\n",
       "    }\n",
       "\n",
       "    .dataframe tbody tr th {\n",
       "        vertical-align: top;\n",
       "    }\n",
       "\n",
       "    .dataframe thead th {\n",
       "        text-align: right;\n",
       "    }\n",
       "</style>\n",
       "<table border=\"1\" class=\"dataframe\">\n",
       "  <thead>\n",
       "    <tr style=\"text-align: right;\">\n",
       "      <th></th>\n",
       "      <th>count</th>\n",
       "      <th>mean</th>\n",
       "      <th>std</th>\n",
       "      <th>min</th>\n",
       "      <th>25%</th>\n",
       "      <th>50%</th>\n",
       "      <th>75%</th>\n",
       "      <th>max</th>\n",
       "    </tr>\n",
       "  </thead>\n",
       "  <tbody>\n",
       "    <tr>\n",
       "      <th>SeriousDlqin2yrs</th>\n",
       "      <td>150000.0</td>\n",
       "      <td>0.066840</td>\n",
       "      <td>0.249746</td>\n",
       "      <td>0.0</td>\n",
       "      <td>0.000000</td>\n",
       "      <td>0.000000</td>\n",
       "      <td>0.000000</td>\n",
       "      <td>1.0</td>\n",
       "    </tr>\n",
       "    <tr>\n",
       "      <th>RevolvingUtilizationOfUnsecuredLines</th>\n",
       "      <td>150000.0</td>\n",
       "      <td>6.048438</td>\n",
       "      <td>249.755371</td>\n",
       "      <td>0.0</td>\n",
       "      <td>0.029867</td>\n",
       "      <td>0.154181</td>\n",
       "      <td>0.559046</td>\n",
       "      <td>50708.0</td>\n",
       "    </tr>\n",
       "    <tr>\n",
       "      <th>age</th>\n",
       "      <td>150000.0</td>\n",
       "      <td>52.295207</td>\n",
       "      <td>14.771866</td>\n",
       "      <td>0.0</td>\n",
       "      <td>41.000000</td>\n",
       "      <td>52.000000</td>\n",
       "      <td>63.000000</td>\n",
       "      <td>109.0</td>\n",
       "    </tr>\n",
       "    <tr>\n",
       "      <th>NumberOfTime30-59DaysPastDueNotWorse</th>\n",
       "      <td>150000.0</td>\n",
       "      <td>0.421033</td>\n",
       "      <td>4.192781</td>\n",
       "      <td>0.0</td>\n",
       "      <td>0.000000</td>\n",
       "      <td>0.000000</td>\n",
       "      <td>0.000000</td>\n",
       "      <td>98.0</td>\n",
       "    </tr>\n",
       "    <tr>\n",
       "      <th>DebtRatio</th>\n",
       "      <td>150000.0</td>\n",
       "      <td>353.005076</td>\n",
       "      <td>2037.818523</td>\n",
       "      <td>0.0</td>\n",
       "      <td>0.175074</td>\n",
       "      <td>0.366508</td>\n",
       "      <td>0.868254</td>\n",
       "      <td>329664.0</td>\n",
       "    </tr>\n",
       "    <tr>\n",
       "      <th>MonthlyIncome</th>\n",
       "      <td>120269.0</td>\n",
       "      <td>6670.221237</td>\n",
       "      <td>14384.674215</td>\n",
       "      <td>0.0</td>\n",
       "      <td>3400.000000</td>\n",
       "      <td>5400.000000</td>\n",
       "      <td>8249.000000</td>\n",
       "      <td>3008750.0</td>\n",
       "    </tr>\n",
       "    <tr>\n",
       "      <th>NumberOfOpenCreditLinesAndLoans</th>\n",
       "      <td>150000.0</td>\n",
       "      <td>8.452760</td>\n",
       "      <td>5.145951</td>\n",
       "      <td>0.0</td>\n",
       "      <td>5.000000</td>\n",
       "      <td>8.000000</td>\n",
       "      <td>11.000000</td>\n",
       "      <td>58.0</td>\n",
       "    </tr>\n",
       "    <tr>\n",
       "      <th>NumberOfTimes90DaysLate</th>\n",
       "      <td>150000.0</td>\n",
       "      <td>0.265973</td>\n",
       "      <td>4.169304</td>\n",
       "      <td>0.0</td>\n",
       "      <td>0.000000</td>\n",
       "      <td>0.000000</td>\n",
       "      <td>0.000000</td>\n",
       "      <td>98.0</td>\n",
       "    </tr>\n",
       "    <tr>\n",
       "      <th>NumberRealEstateLoansOrLines</th>\n",
       "      <td>150000.0</td>\n",
       "      <td>1.018240</td>\n",
       "      <td>1.129771</td>\n",
       "      <td>0.0</td>\n",
       "      <td>0.000000</td>\n",
       "      <td>1.000000</td>\n",
       "      <td>2.000000</td>\n",
       "      <td>54.0</td>\n",
       "    </tr>\n",
       "    <tr>\n",
       "      <th>NumberOfTime60-89DaysPastDueNotWorse</th>\n",
       "      <td>150000.0</td>\n",
       "      <td>0.240387</td>\n",
       "      <td>4.155179</td>\n",
       "      <td>0.0</td>\n",
       "      <td>0.000000</td>\n",
       "      <td>0.000000</td>\n",
       "      <td>0.000000</td>\n",
       "      <td>98.0</td>\n",
       "    </tr>\n",
       "    <tr>\n",
       "      <th>NumberOfDependents</th>\n",
       "      <td>146076.0</td>\n",
       "      <td>0.757222</td>\n",
       "      <td>1.115086</td>\n",
       "      <td>0.0</td>\n",
       "      <td>0.000000</td>\n",
       "      <td>0.000000</td>\n",
       "      <td>1.000000</td>\n",
       "      <td>20.0</td>\n",
       "    </tr>\n",
       "  </tbody>\n",
       "</table>\n",
       "</div>"
      ],
      "text/plain": [
       "                                         count         mean           std  \\\n",
       "SeriousDlqin2yrs                      150000.0     0.066840      0.249746   \n",
       "RevolvingUtilizationOfUnsecuredLines  150000.0     6.048438    249.755371   \n",
       "age                                   150000.0    52.295207     14.771866   \n",
       "NumberOfTime30-59DaysPastDueNotWorse  150000.0     0.421033      4.192781   \n",
       "DebtRatio                             150000.0   353.005076   2037.818523   \n",
       "MonthlyIncome                         120269.0  6670.221237  14384.674215   \n",
       "NumberOfOpenCreditLinesAndLoans       150000.0     8.452760      5.145951   \n",
       "NumberOfTimes90DaysLate               150000.0     0.265973      4.169304   \n",
       "NumberRealEstateLoansOrLines          150000.0     1.018240      1.129771   \n",
       "NumberOfTime60-89DaysPastDueNotWorse  150000.0     0.240387      4.155179   \n",
       "NumberOfDependents                    146076.0     0.757222      1.115086   \n",
       "\n",
       "                                      min          25%          50%  \\\n",
       "SeriousDlqin2yrs                      0.0     0.000000     0.000000   \n",
       "RevolvingUtilizationOfUnsecuredLines  0.0     0.029867     0.154181   \n",
       "age                                   0.0    41.000000    52.000000   \n",
       "NumberOfTime30-59DaysPastDueNotWorse  0.0     0.000000     0.000000   \n",
       "DebtRatio                             0.0     0.175074     0.366508   \n",
       "MonthlyIncome                         0.0  3400.000000  5400.000000   \n",
       "NumberOfOpenCreditLinesAndLoans       0.0     5.000000     8.000000   \n",
       "NumberOfTimes90DaysLate               0.0     0.000000     0.000000   \n",
       "NumberRealEstateLoansOrLines          0.0     0.000000     1.000000   \n",
       "NumberOfTime60-89DaysPastDueNotWorse  0.0     0.000000     0.000000   \n",
       "NumberOfDependents                    0.0     0.000000     0.000000   \n",
       "\n",
       "                                              75%        max  \n",
       "SeriousDlqin2yrs                         0.000000        1.0  \n",
       "RevolvingUtilizationOfUnsecuredLines     0.559046    50708.0  \n",
       "age                                     63.000000      109.0  \n",
       "NumberOfTime30-59DaysPastDueNotWorse     0.000000       98.0  \n",
       "DebtRatio                                0.868254   329664.0  \n",
       "MonthlyIncome                         8249.000000  3008750.0  \n",
       "NumberOfOpenCreditLinesAndLoans         11.000000       58.0  \n",
       "NumberOfTimes90DaysLate                  0.000000       98.0  \n",
       "NumberRealEstateLoansOrLines             2.000000       54.0  \n",
       "NumberOfTime60-89DaysPastDueNotWorse     0.000000       98.0  \n",
       "NumberOfDependents                       1.000000       20.0  "
      ]
     },
     "execution_count": 4,
     "metadata": {},
     "output_type": "execute_result"
    }
   ],
   "source": [
    "# 载入数据\n",
    "\n",
    "train_data = pd.read_csv(\"./data/cs-training.csv\",index_col=0, engine=\"python\")\n",
    "# 查看数据分布\n",
    "train_data.describe().T"
   ]
  },
  {
   "cell_type": "code",
   "execution_count": 5,
   "metadata": {},
   "outputs": [],
   "source": [
    "train_data.drop_duplicates(inplace=True)"
   ]
  },
  {
   "cell_type": "raw",
   "metadata": {},
   "source": [
    "%%cmd\n",
    "\n",
    "pip install missingno"
   ]
  },
  {
   "cell_type": "code",
   "execution_count": 6,
   "metadata": {},
   "outputs": [],
   "source": [
    "import missingno as msno\n",
    "msno.matrix(train_data);"
   ]
  },
  {
   "cell_type": "code",
   "execution_count": 7,
   "metadata": {},
   "outputs": [
    {
     "data": {
      "text/plain": [
       "5400.0"
      ]
     },
     "execution_count": 7,
     "metadata": {},
     "output_type": "execute_result"
    }
   ],
   "source": [
    "median = train_data.MonthlyIncome.median()\n",
    "median"
   ]
  },
  {
   "cell_type": "code",
   "execution_count": 8,
   "metadata": {},
   "outputs": [],
   "source": [
    "train_data.MonthlyIncome.fillna(value=median, inplace=True)"
   ]
  },
  {
   "cell_type": "code",
   "execution_count": 9,
   "metadata": {},
   "outputs": [
    {
     "data": {
      "text/plain": [
       "SeriousDlqin2yrs                        0.0\n",
       "RevolvingUtilizationOfUnsecuredLines    0.0\n",
       "age                                     0.0\n",
       "NumberOfTime30-59DaysPastDueNotWorse    0.0\n",
       "DebtRatio                               0.0\n",
       "MonthlyIncome                           0.0\n",
       "NumberOfOpenCreditLinesAndLoans         0.0\n",
       "NumberOfTimes90DaysLate                 0.0\n",
       "NumberRealEstateLoansOrLines            0.0\n",
       "NumberOfTime60-89DaysPastDueNotWorse    0.0\n",
       "NumberOfDependents                      0.0\n",
       "dtype: float64"
      ]
     },
     "execution_count": 9,
     "metadata": {},
     "output_type": "execute_result"
    }
   ],
   "source": [
    "train_data.dropna(inplace=True)\n",
    "train_data.isnull().mean()"
   ]
  },
  {
   "cell_type": "code",
   "execution_count": 10,
   "metadata": {},
   "outputs": [],
   "source": [
    "train_data = train_data.loc[train_data.age>0]"
   ]
  },
  {
   "cell_type": "code",
   "execution_count": 11,
   "metadata": {},
   "outputs": [
    {
     "data": {
      "image/png": "[encoded data removed]",
      "text/plain": [
       "<Figure size 432x288 with 1 Axes>"
      ]
     },
     "metadata": {
      "needs_background": "light"
     },
     "output_type": "display_data"
    }
   ],
   "source": [
    "import matplotlib.pyplot as plt\n",
    "columns = [\"NumberOfTime30-59DaysPastDueNotWorse\",\n",
    "\"NumberOfTime60-89DaysPastDueNotWorse\",\n",
    "\"NumberOfTimes90DaysLate\"]\n",
    "train_data[columns].plot.box(vert=False);\n",
    "# plt.xticks(rotation=90);"
   ]
  },
  {
   "cell_type": "code",
   "execution_count": 12,
   "metadata": {},
   "outputs": [],
   "source": [
    "for col in columns:\n",
    "    train_data = train_data.loc[train_data[col] < 90]"
   ]
  },
  {
   "cell_type": "code",
   "execution_count": 13,
   "metadata": {},
   "outputs": [],
   "source": [
    "from sklearn.model_selection import train_test_split"
   ]
  },
  {
   "cell_type": "code",
   "execution_count": 14,
   "metadata": {},
   "outputs": [],
   "source": [
    "Y = train_data['SeriousDlqin2yrs']\n",
    "X = train_data.iloc[:, 1:]\n",
    "X_train, X_vali, Y_train, Y_vali = train_test_split(X, Y, test_size=0.3,random_state=1)\n",
    "model_data = pd.concat([Y_train, X_train], axis=1)\n",
    "vali_data = pd.concat([Y_vali, X_vali], axis=1)"
   ]
  },
  {
   "cell_type": "code",
   "execution_count": 15,
   "metadata": {},
   "outputs": [
    {
     "data": {
      "text/plain": [
       "0    94927\n",
       "1     6820\n",
       "Name: SeriousDlqin2yrs, dtype: int64"
      ]
     },
     "execution_count": 15,
     "metadata": {},
     "output_type": "execute_result"
    }
   ],
   "source": [
    "model_data[\"SeriousDlqin2yrs\"].value_counts()"
   ]
  },
  {
   "cell_type": "code",
   "execution_count": 16,
   "metadata": {},
   "outputs": [
    {
     "data": {
      "text/plain": [
       "0    94927\n",
       "1     6820\n",
       "Name: SeriousDlqin2yrs, dtype: int64"
      ]
     },
     "execution_count": 16,
     "metadata": {},
     "output_type": "execute_result"
    }
   ],
   "source": [
    "model_data[\"SeriousDlqin2yrs\"].value_counts()"
   ]
  },
  {
   "cell_type": "code",
   "execution_count": 17,
   "metadata": {},
   "outputs": [
    {
     "data": {
      "image/png": "[encoded data removed]",
      "text/plain": [
       "<Figure size 432x288 with 1 Axes>"
      ]
     },
     "metadata": {
      "needs_background": "light"
     },
     "output_type": "display_data"
    }
   ],
   "source": [
    "model_data[\"age\"].plot.hist(bins=30);"
   ]
  },
  {
   "cell_type": "code",
   "execution_count": 18,
   "metadata": {},
   "outputs": [],
   "source": [
    "# 可以看出收入有少部分人非常高，使用小于 99% 的分位数的数据查看收入分布\n",
    "income = model_data[\"MonthlyIncome\"]"
   ]
  },
  {
   "cell_type": "code",
   "execution_count": 19,
   "metadata": {},
   "outputs": [
    {
     "data": {
      "image/png": "[encoded data removed]",
      "text/plain": [
       "<Figure size 432x288 with 1 Axes>"
      ]
     },
     "metadata": {
      "needs_background": "light"
     },
     "output_type": "display_data"
    }
   ],
   "source": [
    "income.plot.hist(bins=50);"
   ]
  },
  {
   "cell_type": "code",
   "execution_count": null,
   "metadata": {},
   "outputs": [],
   "source": []
  },
  {
   "cell_type": "code",
   "execution_count": 20,
   "metadata": {},
   "outputs": [
    {
     "data": {
      "image/png": "[encoded data removed]",
      "text/plain": [
       "<Figure size 432x288 with 1 Axes>"
      ]
     },
     "metadata": {
      "needs_background": "light"
     },
     "output_type": "display_data"
    }
   ],
   "source": [
    "income.loc[income < 23334].plot.hist(bins=50);"
   ]
  },
  {
   "cell_type": "code",
   "execution_count": 21,
   "metadata": {},
   "outputs": [],
   "source": [
    "model_data.corr().to_excel(\"CorrData.xlsx\")"
   ]
  },
  {
   "cell_type": "code",
   "execution_count": null,
   "metadata": {},
   "outputs": [],
   "source": []
  },
  {
   "cell_type": "code",
   "execution_count": null,
   "metadata": {},
   "outputs": [],
   "source": []
  },
  {
   "cell_type": "raw",
   "metadata": {},
   "source": [
    "找不到模块的错误，解决方法\n",
    "auto_bin.py 文件 放在你的当前的 notebook 的 路径位置\n",
    "\n",
    "\n",
    "f-string 报错的 （python3.5 会报错。 3.6及以上的版本不会）\n",
    "把 f-string 改为 .format()\n",
    "f\"比如{a}\"\n",
    "\"比如{}\".format(a)"
   ]
  },
  {
   "cell_type": "code",
   "execution_count": 22,
   "metadata": {},
   "outputs": [],
   "source": [
    "from auto_bin import AutoBins"
   ]
  },
  {
   "cell_type": "code",
   "execution_count": 23,
   "metadata": {},
   "outputs": [],
   "source": [
    "bins_data = AutoBins(model_data, \"SeriousDlqin2yrs\")"
   ]
  },
  {
   "cell_type": "code",
   "execution_count": 24,
   "metadata": {
    "collapsed": true
   },
   "outputs": [
    {
     "data": {
      "text/plain": [
       "Index(['SeriousDlqin2yrs', 'RevolvingUtilizationOfUnsecuredLines', 'age',\n",
       "       'NumberOfTime30-59DaysPastDueNotWorse', 'DebtRatio', 'MonthlyIncome',\n",
       "       'NumberOfOpenCreditLinesAndLoans', 'NumberOfTimes90DaysLate',\n",
       "       'NumberRealEstateLoansOrLines', 'NumberOfTime60-89DaysPastDueNotWorse',\n",
       "       'NumberOfDependents'],\n",
       "      dtype='object')"
      ]
     },
     "execution_count": 24,
     "metadata": {},
     "output_type": "execute_result"
    }
   ],
   "source": [
    "model_data.columns"
   ]
  },
  {
   "cell_type": "code",
   "execution_count": 119,
   "metadata": {},
   "outputs": [
    {
     "name": "stdout",
     "output_type": "stream",
     "text": [
      "对 age 列进行分箱: \n",
      "分组个数: 20 \tiv值: 0.23724438761130953\n",
      "分组个数: 19 \tiv值: 0.23723359920650364\n",
      "分组个数: 18 \tiv值: 0.237182142631764\n",
      "分组个数: 17 \tiv值: 0.23715172317950203\n",
      "分组个数: 16 \tiv值: 0.23712613566748994\n",
      "分组个数: 15 \tiv值: 0.23707968641951685\n",
      "分组个数: 14 \tiv值: 0.2369960731117691\n",
      "分组个数: 13 \tiv值: 0.23689514241922724\n",
      "分组个数: 12 \tiv值: 0.2367914403169827\n",
      "分组个数: 11 \tiv值: 0.23653142904980312\n",
      "分组个数: 10 \tiv值: 0.23633188826008528\n",
      "分组个数: 09 \tiv值: 0.2359466565765329\n",
      "分组个数: 08 \tiv值: 0.2354907914912336\n",
      "分组个数: 07 \tiv值: 0.2340609961719602\n",
      "分组个数: 06 \tiv值: 0.2332456030618488\n",
      "分组个数: 05 \tiv值: 0.22999238737617622\n",
      "分组个数: 04 \tiv值: 0.22573496288599765\n",
      "分组个数: 03 \tiv值: 0.20249103125777562\n",
      "分组个数: 02 \tiv值: 0.18775309298943932\n",
      "\n",
      "最后分箱情况: \n",
      "分组个数: 02 \tiv值: 0.18775309298943932\n",
      "\n",
      "分组woe情况：\n",
      "    min   max  count_0  count_1  total  percentage  bad_rate       woe\n",
      "0  -inf  56.0    57145     5441  62586    0.615114  0.086936 -0.281620\n",
      "1  56.0   inf    37782     1379  39161    0.384886  0.035214  0.677225\n"
     ]
    }
   ],
   "source": [
    "# 通过下面的函数来完成分箱个数的判断 箱体是前开后闭\n",
    "num_bins, woe_df, iv = bins_data.auto_bins(\"age\",n=2)"
   ]
  },
  {
   "cell_type": "code",
   "execution_count": 120,
   "metadata": {},
   "outputs": [],
   "source": [
    "# 分析过程中手动完成分箱个数的添加\n",
    "bins_num = {\n",
    "\"RevolvingUtilizationOfUnsecuredLines\":5,\n",
    "\"age\":5,\n",
    "\"NumberOfTime30-59DaysPastDueNotWorse\":3,\n",
    "\"DebtRatio\":5,\n",
    "\"MonthlyIncome\":6,\n",
    "\"NumberOfOpenCreditLinesAndLoans\":4,\n",
    "\"NumberOfTimes90DaysLate\":2,\n",
    "\"NumberRealEstateLoansOrLines\":4,\n",
    "\"NumberOfTime60-89DaysPastDueNotWorse\":2,\n",
    "\"NumberOfDependents\":4,\n",
    "}"
   ]
  },
  {
   "cell_type": "code",
   "execution_count": 121,
   "metadata": {},
   "outputs": [
    {
     "name": "stdout",
     "output_type": "stream",
     "text": [
      "对 RevolvingUtilizationOfUnsecuredLines 列进行分箱: \n",
      "对 age 列进行分箱: \n",
      "对 NumberOfTime30-59DaysPastDueNotWorse 列进行分箱: \n",
      "对 DebtRatio 列进行分箱: \n",
      "对 MonthlyIncome 列进行分箱: \n",
      "对 NumberOfOpenCreditLinesAndLoans 列进行分箱: \n",
      "对 NumberOfTimes90DaysLate 列进行分箱: \n",
      "对 NumberRealEstateLoansOrLines 列进行分箱: \n",
      "对 NumberOfTime60-89DaysPastDueNotWorse 列进行分箱: \n",
      "对 NumberOfDependents 列进行分箱: \n"
     ]
    }
   ],
   "source": [
    "info_values = {}\n",
    "woe_values = {}\n",
    "bins_values = {}\n",
    "for key in bins_num:\n",
    "    num_bins, woe_df, iv = bins_data.auto_bins(key, n=bins_num[key], show_iv=False)\n",
    "    info_values[key] = iv\n",
    "    woe_values[key] = woe_df\n",
    "    bins_values[key] = [x[0] for x in num_bins] + [float(\"inf\")]"
   ]
  },
  {
   "cell_type": "code",
   "execution_count": 122,
   "metadata": {},
   "outputs": [
    {
     "data": {
      "text/plain": [
       "{'RevolvingUtilizationOfUnsecuredLines': 1.0862047304628188,\n",
       " 'age': 0.22999238737617622,\n",
       " 'NumberOfTime30-59DaysPastDueNotWorse': 0.7380481228387712,\n",
       " 'DebtRatio': 0.07354956193272312,\n",
       " 'MonthlyIncome': 0.07672117165629971,\n",
       " 'NumberOfOpenCreditLinesAndLoans': 0.07981741671159143,\n",
       " 'NumberOfTimes90DaysLate': 0.8035216030979855,\n",
       " 'NumberRealEstateLoansOrLines': 0.05916971649181881,\n",
       " 'NumberOfTime60-89DaysPastDueNotWorse': 0.5433285158150472,\n",
       " 'NumberOfDependents': 0.0334568806578509}"
      ]
     },
     "execution_count": 122,
     "metadata": {},
     "output_type": "execute_result"
    }
   ],
   "source": [
    "info_values"
   ]
  },
  {
   "cell_type": "code",
   "execution_count": 123,
   "metadata": {},
   "outputs": [],
   "source": [
    "def plt_iv(info_values):\n",
    "    keys,values = zip(*info_values.items())\n",
    "    nums = range(len(keys))\n",
    "    plt.barh(nums,values)\n",
    "    plt.yticks(nums,keys)\n",
    "    for i, v in enumerate(values):\n",
    "        plt.text(v, i-.2, f\"{v:.2f}\")\n",
    "    "
   ]
  },
  {
   "cell_type": "code",
   "execution_count": 124,
   "metadata": {},
   "outputs": [
    {
     "data": {
      "image/png": "[encoded data removed]",
      "text/plain": [
       "<Figure size 432x288 with 1 Axes>"
      ]
     },
     "metadata": {
      "needs_background": "light"
     },
     "output_type": "display_data"
    }
   ],
   "source": [
    "plt_iv(info_values)"
   ]
  },
  {
   "cell_type": "code",
   "execution_count": 125,
   "metadata": {},
   "outputs": [
    {
     "data": {
      "text/html": [
       "<div>\n",
       "<style scoped>\n",
       "    .dataframe tbody tr th:only-of-type {\n",
       "        vertical-align: middle;\n",
       "    }\n",
       "\n",
       "    .dataframe tbody tr th {\n",
       "        vertical-align: top;\n",
       "    }\n",
       "\n",
       "    .dataframe thead th {\n",
       "        text-align: right;\n",
       "    }\n",
       "</style>\n",
       "<table border=\"1\" class=\"dataframe\">\n",
       "  <thead>\n",
       "    <tr style=\"text-align: right;\">\n",
       "      <th></th>\n",
       "      <th>min</th>\n",
       "      <th>max</th>\n",
       "      <th>count_0</th>\n",
       "      <th>count_1</th>\n",
       "      <th>total</th>\n",
       "      <th>percentage</th>\n",
       "      <th>bad_rate</th>\n",
       "      <th>woe</th>\n",
       "    </tr>\n",
       "  </thead>\n",
       "  <tbody>\n",
       "    <tr>\n",
       "      <th>0</th>\n",
       "      <td>-inf</td>\n",
       "      <td>36.0</td>\n",
       "      <td>14271</td>\n",
       "      <td>1713</td>\n",
       "      <td>15984</td>\n",
       "      <td>0.157096</td>\n",
       "      <td>0.107170</td>\n",
       "      <td>-0.513265</td>\n",
       "    </tr>\n",
       "    <tr>\n",
       "      <th>1</th>\n",
       "      <td>36.0</td>\n",
       "      <td>52.0</td>\n",
       "      <td>33788</td>\n",
       "      <td>3074</td>\n",
       "      <td>36862</td>\n",
       "      <td>0.362291</td>\n",
       "      <td>0.083392</td>\n",
       "      <td>-0.236123</td>\n",
       "    </tr>\n",
       "    <tr>\n",
       "      <th>2</th>\n",
       "      <td>52.0</td>\n",
       "      <td>56.0</td>\n",
       "      <td>9086</td>\n",
       "      <td>654</td>\n",
       "      <td>9740</td>\n",
       "      <td>0.095728</td>\n",
       "      <td>0.067146</td>\n",
       "      <td>-0.001866</td>\n",
       "    </tr>\n",
       "    <tr>\n",
       "      <th>3</th>\n",
       "      <td>56.0</td>\n",
       "      <td>65.0</td>\n",
       "      <td>19422</td>\n",
       "      <td>897</td>\n",
       "      <td>20319</td>\n",
       "      <td>0.199701</td>\n",
       "      <td>0.044146</td>\n",
       "      <td>0.441857</td>\n",
       "    </tr>\n",
       "    <tr>\n",
       "      <th>4</th>\n",
       "      <td>65.0</td>\n",
       "      <td>inf</td>\n",
       "      <td>18360</td>\n",
       "      <td>482</td>\n",
       "      <td>18842</td>\n",
       "      <td>0.185185</td>\n",
       "      <td>0.025581</td>\n",
       "      <td>1.006737</td>\n",
       "    </tr>\n",
       "  </tbody>\n",
       "</table>\n",
       "</div>"
      ],
      "text/plain": [
       "    min   max  count_0  count_1  total  percentage  bad_rate       woe\n",
       "0  -inf  36.0    14271     1713  15984    0.157096  0.107170 -0.513265\n",
       "1  36.0  52.0    33788     3074  36862    0.362291  0.083392 -0.236123\n",
       "2  52.0  56.0     9086      654   9740    0.095728  0.067146 -0.001866\n",
       "3  56.0  65.0    19422      897  20319    0.199701  0.044146  0.441857\n",
       "4  65.0   inf    18360      482  18842    0.185185  0.025581  1.006737"
      ]
     },
     "execution_count": 125,
     "metadata": {},
     "output_type": "execute_result"
    }
   ],
   "source": [
    "# model_data.head()\n",
    "model_woe = pd.DataFrame(index=model_data.index)\n",
    "woe_values['age']#[\"woe\"]"
   ]
  },
  {
   "cell_type": "code",
   "execution_count": 126,
   "metadata": {},
   "outputs": [],
   "source": [
    "for col in bins_values:\n",
    "    bins = bins_values[col]\n",
    "    labels = woe_values[col][\"woe\"]\n",
    "    model_woe[col] = pd.cut(model_data[col], bins, labels=labels).astype(np.float)\n",
    "    model_woe[\"SeriousDlqin2yrs\"] = model_data[\"SeriousDlqin2yrs\"]"
   ]
  },
  {
   "cell_type": "code",
   "execution_count": 127,
   "metadata": {},
   "outputs": [
    {
     "data": {
      "text/html": [
       "<div>\n",
       "<style scoped>\n",
       "    .dataframe tbody tr th:only-of-type {\n",
       "        vertical-align: middle;\n",
       "    }\n",
       "\n",
       "    .dataframe tbody tr th {\n",
       "        vertical-align: top;\n",
       "    }\n",
       "\n",
       "    .dataframe thead th {\n",
       "        text-align: right;\n",
       "    }\n",
       "</style>\n",
       "<table border=\"1\" class=\"dataframe\">\n",
       "  <thead>\n",
       "    <tr style=\"text-align: right;\">\n",
       "      <th></th>\n",
       "      <th>RevolvingUtilizationOfUnsecuredLines</th>\n",
       "      <th>SeriousDlqin2yrs</th>\n",
       "      <th>age</th>\n",
       "      <th>NumberOfTime30-59DaysPastDueNotWorse</th>\n",
       "      <th>DebtRatio</th>\n",
       "      <th>MonthlyIncome</th>\n",
       "      <th>NumberOfOpenCreditLinesAndLoans</th>\n",
       "      <th>NumberOfTimes90DaysLate</th>\n",
       "      <th>NumberRealEstateLoansOrLines</th>\n",
       "      <th>NumberOfTime60-89DaysPastDueNotWorse</th>\n",
       "      <th>NumberOfDependents</th>\n",
       "    </tr>\n",
       "  </thead>\n",
       "  <tbody>\n",
       "    <tr>\n",
       "      <th>64863</th>\n",
       "      <td>-1.085646</td>\n",
       "      <td>0</td>\n",
       "      <td>-0.236123</td>\n",
       "      <td>0.547188</td>\n",
       "      <td>0.100672</td>\n",
       "      <td>-0.374450</td>\n",
       "      <td>0.105359</td>\n",
       "      <td>0.376017</td>\n",
       "      <td>-0.238641</td>\n",
       "      <td>0.277329</td>\n",
       "      <td>-0.312630</td>\n",
       "    </tr>\n",
       "    <tr>\n",
       "      <th>84119</th>\n",
       "      <td>0.514000</td>\n",
       "      <td>0</td>\n",
       "      <td>-0.236123</td>\n",
       "      <td>0.547188</td>\n",
       "      <td>0.125278</td>\n",
       "      <td>0.113386</td>\n",
       "      <td>0.105359</td>\n",
       "      <td>0.376017</td>\n",
       "      <td>0.223240</td>\n",
       "      <td>0.277329</td>\n",
       "      <td>0.151337</td>\n",
       "    </tr>\n",
       "    <tr>\n",
       "      <th>63595</th>\n",
       "      <td>-0.314008</td>\n",
       "      <td>0</td>\n",
       "      <td>0.441857</td>\n",
       "      <td>0.547188</td>\n",
       "      <td>0.100672</td>\n",
       "      <td>0.113386</td>\n",
       "      <td>0.105359</td>\n",
       "      <td>0.376017</td>\n",
       "      <td>0.223240</td>\n",
       "      <td>0.277329</td>\n",
       "      <td>0.151337</td>\n",
       "    </tr>\n",
       "    <tr>\n",
       "      <th>76685</th>\n",
       "      <td>-0.314008</td>\n",
       "      <td>0</td>\n",
       "      <td>-0.236123</td>\n",
       "      <td>0.547188</td>\n",
       "      <td>0.100672</td>\n",
       "      <td>0.275220</td>\n",
       "      <td>0.105359</td>\n",
       "      <td>0.376017</td>\n",
       "      <td>0.223240</td>\n",
       "      <td>0.277329</td>\n",
       "      <td>-0.135992</td>\n",
       "    </tr>\n",
       "    <tr>\n",
       "      <th>130077</th>\n",
       "      <td>-1.085646</td>\n",
       "      <td>0</td>\n",
       "      <td>1.006737</td>\n",
       "      <td>0.547188</td>\n",
       "      <td>0.100672</td>\n",
       "      <td>-0.178204</td>\n",
       "      <td>0.105359</td>\n",
       "      <td>0.376017</td>\n",
       "      <td>-0.238641</td>\n",
       "      <td>0.277329</td>\n",
       "      <td>0.151337</td>\n",
       "    </tr>\n",
       "  </tbody>\n",
       "</table>\n",
       "</div>"
      ],
      "text/plain": [
       "       RevolvingUtilizationOfUnsecuredLines  SeriousDlqin2yrs       age  \\\n",
       "64863                             -1.085646                 0 -0.236123   \n",
       "84119                              0.514000                 0 -0.236123   \n",
       "63595                             -0.314008                 0  0.441857   \n",
       "76685                             -0.314008                 0 -0.236123   \n",
       "130077                            -1.085646                 0  1.006737   \n",
       "\n",
       "       NumberOfTime30-59DaysPastDueNotWorse DebtRatio MonthlyIncome  \\\n",
       "64863                              0.547188  0.100672     -0.374450   \n",
       "84119                              0.547188  0.125278      0.113386   \n",
       "63595                              0.547188  0.100672      0.113386   \n",
       "76685                              0.547188  0.100672      0.275220   \n",
       "130077                             0.547188  0.100672     -0.178204   \n",
       "\n",
       "       NumberOfOpenCreditLinesAndLoans NumberOfTimes90DaysLate  \\\n",
       "64863                         0.105359                0.376017   \n",
       "84119                         0.105359                0.376017   \n",
       "63595                         0.105359                0.376017   \n",
       "76685                         0.105359                0.376017   \n",
       "130077                        0.105359                0.376017   \n",
       "\n",
       "       NumberRealEstateLoansOrLines NumberOfTime60-89DaysPastDueNotWorse  \\\n",
       "64863                     -0.238641                             0.277329   \n",
       "84119                      0.223240                             0.277329   \n",
       "63595                      0.223240                             0.277329   \n",
       "76685                      0.223240                             0.277329   \n",
       "130077                    -0.238641                             0.277329   \n",
       "\n",
       "       NumberOfDependents  \n",
       "64863           -0.312630  \n",
       "84119            0.151337  \n",
       "63595            0.151337  \n",
       "76685           -0.135992  \n",
       "130077           0.151337  "
      ]
     },
     "execution_count": 127,
     "metadata": {},
     "output_type": "execute_result"
    }
   ],
   "source": [
    "model_woe.head(5)"
   ]
  },
  {
   "cell_type": "code",
   "execution_count": 129,
   "metadata": {},
   "outputs": [],
   "source": [
    "model_woe.to_csv('WoeData.csv',encoding=\"utf8\", index=False)"
   ]
  },
  {
   "cell_type": "code",
   "execution_count": null,
   "metadata": {},
   "outputs": [],
   "source": []
  },
  {
   "cell_type": "code",
   "execution_count": 130,
   "metadata": {},
   "outputs": [],
   "source": [
    "import statsmodels.api as sm\n",
    "data = pd.read_csv('WoeData.csv',encoding=\"utf8\")\n",
    "# 设置因变量\n",
    "endog = data['SeriousDlqin2yrs']\n",
    "X = data.drop([\"SeriousDlqin2yrs\",\n",
    "    \"NumberRealEstateLoansOrLines\",\n",
    "    \"NumberOfDependents\"],axis=1)"
   ]
  },
  {
   "cell_type": "code",
   "execution_count": 131,
   "metadata": {},
   "outputs": [
    {
     "name": "stderr",
     "output_type": "stream",
     "text": [
      "C:\\Users\\CDA\\Anaconda3\\lib\\site-packages\\numpy\\core\\fromnumeric.py:2223: FutureWarning: Method .ptp is deprecated and will be removed in a future version. Use numpy.ptp instead.\n",
      "  return ptp(axis=axis, out=out, **kwargs)\n"
     ]
    },
    {
     "name": "stdout",
     "output_type": "stream",
     "text": [
      "Optimization terminated successfully.\n",
      "         Current function value: 0.184521\n",
      "         Iterations 8\n"
     ]
    }
   ],
   "source": [
    "# 设置自变量\n",
    "exog = sm.add_constant(X)\n",
    "logit = sm.Logit(endog,exog)\n",
    "result = logit.fit()"
   ]
  },
  {
   "cell_type": "code",
   "execution_count": 132,
   "metadata": {},
   "outputs": [
    {
     "data": {
      "text/html": [
       "<table class=\"simpletable\">\n",
       "<caption>Logit Regression Results</caption>\n",
       "<tr>\n",
       "  <th>Dep. Variable:</th> <td>SeriousDlqin2yrs</td> <th>  No. Observations:  </th>  <td>101747</td> \n",
       "</tr>\n",
       "<tr>\n",
       "  <th>Model:</th>               <td>Logit</td>      <th>  Df Residuals:      </th>  <td>101738</td> \n",
       "</tr>\n",
       "<tr>\n",
       "  <th>Method:</th>               <td>MLE</td>       <th>  Df Model:          </th>  <td>     8</td> \n",
       "</tr>\n",
       "<tr>\n",
       "  <th>Date:</th>          <td>Sun, 03 Mar 2019</td> <th>  Pseudo R-squ.:     </th>  <td>0.2496</td> \n",
       "</tr>\n",
       "<tr>\n",
       "  <th>Time:</th>              <td>14:21:42</td>     <th>  Log-Likelihood:    </th> <td> -18774.</td>\n",
       "</tr>\n",
       "<tr>\n",
       "  <th>converged:</th>           <td>True</td>       <th>  LL-Null:           </th> <td> -25018.</td>\n",
       "</tr>\n",
       "<tr>\n",
       "  <th> </th>                      <td> </td>        <th>  LLR p-value:       </th>  <td> 0.000</td> \n",
       "</tr>\n",
       "</table>\n",
       "<table class=\"simpletable\">\n",
       "<tr>\n",
       "                    <td></td>                      <th>coef</th>     <th>std err</th>      <th>z</th>      <th>P>|z|</th>  <th>[0.025</th>    <th>0.975]</th>  \n",
       "</tr>\n",
       "<tr>\n",
       "  <th>const</th>                                <td>   -2.6092</td> <td>    0.015</td> <td> -170.618</td> <td> 0.000</td> <td>   -2.639</td> <td>   -2.579</td>\n",
       "</tr>\n",
       "<tr>\n",
       "  <th>RevolvingUtilizationOfUnsecuredLines</th> <td>   -0.6036</td> <td>    0.015</td> <td>  -40.615</td> <td> 0.000</td> <td>   -0.633</td> <td>   -0.574</td>\n",
       "</tr>\n",
       "<tr>\n",
       "  <th>age</th>                                  <td>   -0.4540</td> <td>    0.033</td> <td>  -13.699</td> <td> 0.000</td> <td>   -0.519</td> <td>   -0.389</td>\n",
       "</tr>\n",
       "<tr>\n",
       "  <th>NumberOfTime30-59DaysPastDueNotWorse</th> <td>   -0.5556</td> <td>    0.016</td> <td>  -35.271</td> <td> 0.000</td> <td>   -0.587</td> <td>   -0.525</td>\n",
       "</tr>\n",
       "<tr>\n",
       "  <th>DebtRatio</th>                            <td>   -0.6368</td> <td>    0.054</td> <td>  -11.859</td> <td> 0.000</td> <td>   -0.742</td> <td>   -0.532</td>\n",
       "</tr>\n",
       "<tr>\n",
       "  <th>MonthlyIncome</th>                        <td>   -0.2574</td> <td>    0.053</td> <td>   -4.865</td> <td> 0.000</td> <td>   -0.361</td> <td>   -0.154</td>\n",
       "</tr>\n",
       "<tr>\n",
       "  <th>NumberOfOpenCreditLinesAndLoans</th>      <td>   -0.2481</td> <td>    0.046</td> <td>   -5.339</td> <td> 0.000</td> <td>   -0.339</td> <td>   -0.157</td>\n",
       "</tr>\n",
       "<tr>\n",
       "  <th>NumberOfTimes90DaysLate</th>              <td>   -0.5441</td> <td>    0.014</td> <td>  -38.542</td> <td> 0.000</td> <td>   -0.572</td> <td>   -0.516</td>\n",
       "</tr>\n",
       "<tr>\n",
       "  <th>NumberOfTime60-89DaysPastDueNotWorse</th> <td>   -0.4114</td> <td>    0.017</td> <td>  -23.829</td> <td> 0.000</td> <td>   -0.445</td> <td>   -0.378</td>\n",
       "</tr>\n",
       "</table>"
      ],
      "text/plain": [
       "<class 'statsmodels.iolib.summary.Summary'>\n",
       "\"\"\"\n",
       "                           Logit Regression Results                           \n",
       "==============================================================================\n",
       "Dep. Variable:       SeriousDlqin2yrs   No. Observations:               101747\n",
       "Model:                          Logit   Df Residuals:                   101738\n",
       "Method:                           MLE   Df Model:                            8\n",
       "Date:                Sun, 03 Mar 2019   Pseudo R-squ.:                  0.2496\n",
       "Time:                        14:21:42   Log-Likelihood:                -18774.\n",
       "converged:                       True   LL-Null:                       -25018.\n",
       "                                        LLR p-value:                     0.000\n",
       "========================================================================================================\n",
       "                                           coef    std err          z      P>|z|      [0.025      0.975]\n",
       "--------------------------------------------------------------------------------------------------------\n",
       "const                                   -2.6092      0.015   -170.618      0.000      -2.639      -2.579\n",
       "RevolvingUtilizationOfUnsecuredLines    -0.6036      0.015    -40.615      0.000      -0.633      -0.574\n",
       "age                                     -0.4540      0.033    -13.699      0.000      -0.519      -0.389\n",
       "NumberOfTime30-59DaysPastDueNotWorse    -0.5556      0.016    -35.271      0.000      -0.587      -0.525\n",
       "DebtRatio                               -0.6368      0.054    -11.859      0.000      -0.742      -0.532\n",
       "MonthlyIncome                           -0.2574      0.053     -4.865      0.000      -0.361      -0.154\n",
       "NumberOfOpenCreditLinesAndLoans         -0.2481      0.046     -5.339      0.000      -0.339      -0.157\n",
       "NumberOfTimes90DaysLate                 -0.5441      0.014    -38.542      0.000      -0.572      -0.516\n",
       "NumberOfTime60-89DaysPastDueNotWorse    -0.4114      0.017    -23.829      0.000      -0.445      -0.378\n",
       "========================================================================================================\n",
       "\"\"\""
      ]
     },
     "execution_count": 132,
     "metadata": {},
     "output_type": "execute_result"
    }
   ],
   "source": [
    "result.summary()"
   ]
  },
  {
   "cell_type": "code",
   "execution_count": 145,
   "metadata": {},
   "outputs": [
    {
     "data": {
      "text/plain": [
       "SeriousDlqin2yrs                          int64\n",
       "RevolvingUtilizationOfUnsecuredLines    float64\n",
       "age                                       int64\n",
       "NumberOfTime30-59DaysPastDueNotWorse      int64\n",
       "DebtRatio                               float64\n",
       "MonthlyIncome                           float64\n",
       "NumberOfOpenCreditLinesAndLoans           int64\n",
       "NumberOfTimes90DaysLate                   int64\n",
       "NumberRealEstateLoansOrLines              int64\n",
       "NumberOfTime60-89DaysPastDueNotWorse      int64\n",
       "NumberOfDependents                      float64\n",
       "dtype: object"
      ]
     },
     "execution_count": 145,
     "metadata": {},
     "output_type": "execute_result"
    }
   ],
   "source": [
    "vali_data.dtypes"
   ]
  },
  {
   "cell_type": "code",
   "execution_count": 150,
   "metadata": {},
   "outputs": [],
   "source": [
    "vali_woe = pd.DataFrame(index=vali_data.index)\n",
    "for col in bins_values:\n",
    "    bins = bins_values[col]\n",
    "    labels = woe_values[col][\"woe\"]\n",
    "    vali_woe[col] = pd.cut(vali_data[col], bins, labels=labels).astype(np.float)\n",
    "vali_woe[\"SeriousDlqin2yrs\"] = vali_data[\"SeriousDlqin2yrs\"]\n",
    "vali_Y = vali_woe['SeriousDlqin2yrs']\n",
    "vali_X = vali_woe.drop([\"SeriousDlqin2yrs\",\n",
    "        \"NumberRealEstateLoansOrLines\",\n",
    "        \"NumberOfDependents\"],axis=1)"
   ]
  },
  {
   "cell_type": "code",
   "execution_count": 151,
   "metadata": {},
   "outputs": [
    {
     "name": "stderr",
     "output_type": "stream",
     "text": [
      "C:\\Users\\CDA\\Anaconda3\\lib\\site-packages\\numpy\\core\\fromnumeric.py:2223: FutureWarning: Method .ptp is deprecated and will be removed in a future version. Use numpy.ptp instead.\n",
      "  return ptp(axis=axis, out=out, **kwargs)\n"
     ]
    }
   ],
   "source": [
    "vali_exog = sm.add_constant(vali_X)"
   ]
  },
  {
   "cell_type": "code",
   "execution_count": 155,
   "metadata": {
    "collapsed": true
   },
   "outputs": [
    {
     "name": "stdout",
     "output_type": "stream",
     "text": [
      "Microsoft Windows [版本 6.1.7601]\r\n",
      "版权所有 (c) 2009 Microsoft Corporation。保留所有权利。\r\n",
      "\r\n",
      "C:\\Users\\CDA\\Desktop\\Python评分卡课件20190302>\n",
      "C:\\Users\\CDA\\Desktop\\Python评分卡课件20190302>pip install scikit-plot\n",
      "Collecting scikit-plot\r\n",
      "  Downloading https://files.pythonhosted.org/packages/7c/47/32520e259340c140a4ad27c1b97050dd3254fdc517b1d59974d47037510e/scikit_plot-0.3.7-py3-none-any.whl\r\n",
      "Requirement already satisfied: scipy>=0.9 in c:\\users\\cda\\anaconda3\\lib\\site-packages (from scikit-plot) (1.1.0)\r\n",
      "Requirement already satisfied: joblib>=0.10 in c:\\users\\cda\\anaconda3\\lib\\site-packages (from scikit-plot) (0.13.1)\r\n",
      "Requirement already satisfied: matplotlib>=1.4.0 in c:\\users\\cda\\appdata\\roaming\\python\\python37\\site-packages (from scikit-plot) (3.0.2)\r\n",
      "Requirement already satisfied: scikit-learn>=0.18 in c:\\users\\cda\\anaconda3\\lib\\site-packages (from scikit-plot) (0.20.1)\r\n",
      "Requirement already satisfied: pyparsing!=2.0.4,!=2.1.2,!=2.1.6,>=2.0.1 in c:\\users\\cda\\anaconda3\\lib\\site-packages (from matplotlib>=1.4.0->scikit-plot) (2.2.0)\r\n",
      "Requirement already satisfied: cycler>=0.10 in c:\\users\\cda\\anaconda3\\lib\\site-packages (from matplotlib>=1.4.0->scikit-plot) (0.10.0)\r\n",
      "Requirement already satisfied: numpy>=1.10.0 in c:\\users\\cda\\anaconda3\\lib\\site-packages (from matplotlib>=1.4.0->scikit-plot) (1.15.4)\r\n",
      "Requirement already satisfied: kiwisolver>=1.0.1 in c:\\users\\cda\\anaconda3\\lib\\site-packages (from matplotlib>=1.4.0->scikit-plot) (1.0.1)\r\n",
      "Requirement already satisfied: python-dateutil>=2.1 in c:\\users\\cda\\anaconda3\\lib\\site-packages (from matplotlib>=1.4.0->scikit-plot) (2.7.3)\r\n",
      "Requirement already satisfied: six in c:\\users\\cda\\anaconda3\\lib\\site-packages (from cycler>=0.10->matplotlib>=1.4.0->scikit-plot) (1.11.0)\r\n",
      "Requirement already satisfied: setuptools in c:\\users\\cda\\anaconda3\\lib\\site-packages (from kiwisolver>=1.0.1->matplotlib>=1.4.0->scikit-plot) (39.1.0)\r\n",
      "Installing collected packages: scikit-plot\r\n",
      "Successfully installed scikit-plot-0.3.7\r\n",
      "\r\n",
      "C:\\Users\\CDA\\Desktop\\Python评分卡课件20190302>"
     ]
    },
    {
     "name": "stderr",
     "output_type": "stream",
     "text": [
      "You are using pip version 19.0.2, however version 19.0.3 is available.\r\n",
      "You should consider upgrading via the 'python -m pip install --upgrade pip' command.\r\n"
     ]
    }
   ],
   "source": [
    "%%cmd\n",
    "\n",
    "pip install scikit-plot"
   ]
  },
  {
   "cell_type": "code",
   "execution_count": 152,
   "metadata": {},
   "outputs": [],
   "source": [
    "vali_proba = result.predict(vali_exog)"
   ]
  },
  {
   "cell_type": "code",
   "execution_count": 156,
   "metadata": {},
   "outputs": [],
   "source": [
    "# cmd 中执行 pip install scikit-plot\n",
    "import scikitplot as skplt"
   ]
  },
  {
   "cell_type": "code",
   "execution_count": 157,
   "metadata": {
    "collapsed": true
   },
   "outputs": [
    {
     "data": {
      "text/plain": [
       "134944    0.013123\n",
       "128441    0.016905\n",
       "53834     0.009838\n",
       "20893     0.048693\n",
       "69665     0.011659\n",
       "65587     0.016905\n",
       "111486    0.016905\n",
       "21986     0.012677\n",
       "95356     0.011659\n",
       "109983    0.026700\n",
       "47513     0.017167\n",
       "67298     0.017167\n",
       "77129     0.037675\n",
       "67065     0.031407\n",
       "63548     0.077256\n",
       "101365    0.015550\n",
       "101995    0.033781\n",
       "84602     0.032170\n",
       "32300     0.019419\n",
       "106636    0.024359\n",
       "147413    0.035469\n",
       "5236      0.012482\n",
       "25756     0.014720\n",
       "39015     0.030628\n",
       "115579    0.015795\n",
       "24033     0.036866\n",
       "27797     0.147217\n",
       "144113    0.022159\n",
       "110534    0.011659\n",
       "5483      0.027699\n",
       "            ...   \n",
       "101770    0.025114\n",
       "98852     0.035101\n",
       "133289    0.029505\n",
       "37303     0.074239\n",
       "93233     0.014128\n",
       "21245     0.019419\n",
       "888       0.025604\n",
       "62877     0.024690\n",
       "22570     0.045641\n",
       "45444     0.020906\n",
       "143410    0.244292\n",
       "66979     0.017167\n",
       "7243      0.096048\n",
       "34516     0.025604\n",
       "7925      0.028524\n",
       "119017    0.014348\n",
       "7521      0.544583\n",
       "88138     0.054489\n",
       "106883    0.016905\n",
       "124984    0.009440\n",
       "23360     0.014348\n",
       "22987     0.009440\n",
       "134157    0.018950\n",
       "127809    0.015225\n",
       "64751     0.014841\n",
       "16779     0.016905\n",
       "143382    0.026700\n",
       "50341     0.075531\n",
       "76689     0.092631\n",
       "3510      0.012482\n",
       "Length: 43607, dtype: float64"
      ]
     },
     "execution_count": 157,
     "metadata": {},
     "output_type": "execute_result"
    }
   ],
   "source": [
    "vali_proba"
   ]
  },
  {
   "cell_type": "code",
   "execution_count": 158,
   "metadata": {},
   "outputs": [],
   "source": [
    "# 预测结果为对应 1 的概率，转换为数组用于绘图\n",
    "vali_proba_df = pd.DataFrame(vali_proba,columns=[1])\n",
    "vali_proba_df.insert(0,0,1-vali_proba_df)"
   ]
  },
  {
   "cell_type": "code",
   "execution_count": 159,
   "metadata": {
    "collapsed": true
   },
   "outputs": [
    {
     "data": {
      "text/html": [
       "<div>\n",
       "<style scoped>\n",
       "    .dataframe tbody tr th:only-of-type {\n",
       "        vertical-align: middle;\n",
       "    }\n",
       "\n",
       "    .dataframe tbody tr th {\n",
       "        vertical-align: top;\n",
       "    }\n",
       "\n",
       "    .dataframe thead th {\n",
       "        text-align: right;\n",
       "    }\n",
       "</style>\n",
       "<table border=\"1\" class=\"dataframe\">\n",
       "  <thead>\n",
       "    <tr style=\"text-align: right;\">\n",
       "      <th></th>\n",
       "      <th>0</th>\n",
       "      <th>1</th>\n",
       "    </tr>\n",
       "  </thead>\n",
       "  <tbody>\n",
       "    <tr>\n",
       "      <th>134944</th>\n",
       "      <td>0.986877</td>\n",
       "      <td>0.013123</td>\n",
       "    </tr>\n",
       "    <tr>\n",
       "      <th>128441</th>\n",
       "      <td>0.983095</td>\n",
       "      <td>0.016905</td>\n",
       "    </tr>\n",
       "    <tr>\n",
       "      <th>53834</th>\n",
       "      <td>0.990162</td>\n",
       "      <td>0.009838</td>\n",
       "    </tr>\n",
       "    <tr>\n",
       "      <th>20893</th>\n",
       "      <td>0.951307</td>\n",
       "      <td>0.048693</td>\n",
       "    </tr>\n",
       "    <tr>\n",
       "      <th>69665</th>\n",
       "      <td>0.988341</td>\n",
       "      <td>0.011659</td>\n",
       "    </tr>\n",
       "    <tr>\n",
       "      <th>65587</th>\n",
       "      <td>0.983095</td>\n",
       "      <td>0.016905</td>\n",
       "    </tr>\n",
       "    <tr>\n",
       "      <th>111486</th>\n",
       "      <td>0.983095</td>\n",
       "      <td>0.016905</td>\n",
       "    </tr>\n",
       "    <tr>\n",
       "      <th>21986</th>\n",
       "      <td>0.987323</td>\n",
       "      <td>0.012677</td>\n",
       "    </tr>\n",
       "    <tr>\n",
       "      <th>95356</th>\n",
       "      <td>0.988341</td>\n",
       "      <td>0.011659</td>\n",
       "    </tr>\n",
       "    <tr>\n",
       "      <th>109983</th>\n",
       "      <td>0.973300</td>\n",
       "      <td>0.026700</td>\n",
       "    </tr>\n",
       "    <tr>\n",
       "      <th>47513</th>\n",
       "      <td>0.982833</td>\n",
       "      <td>0.017167</td>\n",
       "    </tr>\n",
       "    <tr>\n",
       "      <th>67298</th>\n",
       "      <td>0.982833</td>\n",
       "      <td>0.017167</td>\n",
       "    </tr>\n",
       "    <tr>\n",
       "      <th>77129</th>\n",
       "      <td>0.962325</td>\n",
       "      <td>0.037675</td>\n",
       "    </tr>\n",
       "    <tr>\n",
       "      <th>67065</th>\n",
       "      <td>0.968593</td>\n",
       "      <td>0.031407</td>\n",
       "    </tr>\n",
       "    <tr>\n",
       "      <th>63548</th>\n",
       "      <td>0.922744</td>\n",
       "      <td>0.077256</td>\n",
       "    </tr>\n",
       "    <tr>\n",
       "      <th>101365</th>\n",
       "      <td>0.984450</td>\n",
       "      <td>0.015550</td>\n",
       "    </tr>\n",
       "    <tr>\n",
       "      <th>101995</th>\n",
       "      <td>0.966219</td>\n",
       "      <td>0.033781</td>\n",
       "    </tr>\n",
       "    <tr>\n",
       "      <th>84602</th>\n",
       "      <td>0.967830</td>\n",
       "      <td>0.032170</td>\n",
       "    </tr>\n",
       "    <tr>\n",
       "      <th>32300</th>\n",
       "      <td>0.980581</td>\n",
       "      <td>0.019419</td>\n",
       "    </tr>\n",
       "    <tr>\n",
       "      <th>106636</th>\n",
       "      <td>0.975641</td>\n",
       "      <td>0.024359</td>\n",
       "    </tr>\n",
       "    <tr>\n",
       "      <th>147413</th>\n",
       "      <td>0.964531</td>\n",
       "      <td>0.035469</td>\n",
       "    </tr>\n",
       "    <tr>\n",
       "      <th>5236</th>\n",
       "      <td>0.987518</td>\n",
       "      <td>0.012482</td>\n",
       "    </tr>\n",
       "    <tr>\n",
       "      <th>25756</th>\n",
       "      <td>0.985280</td>\n",
       "      <td>0.014720</td>\n",
       "    </tr>\n",
       "    <tr>\n",
       "      <th>39015</th>\n",
       "      <td>0.969372</td>\n",
       "      <td>0.030628</td>\n",
       "    </tr>\n",
       "    <tr>\n",
       "      <th>115579</th>\n",
       "      <td>0.984205</td>\n",
       "      <td>0.015795</td>\n",
       "    </tr>\n",
       "    <tr>\n",
       "      <th>24033</th>\n",
       "      <td>0.963134</td>\n",
       "      <td>0.036866</td>\n",
       "    </tr>\n",
       "    <tr>\n",
       "      <th>27797</th>\n",
       "      <td>0.852783</td>\n",
       "      <td>0.147217</td>\n",
       "    </tr>\n",
       "    <tr>\n",
       "      <th>144113</th>\n",
       "      <td>0.977841</td>\n",
       "      <td>0.022159</td>\n",
       "    </tr>\n",
       "    <tr>\n",
       "      <th>110534</th>\n",
       "      <td>0.988341</td>\n",
       "      <td>0.011659</td>\n",
       "    </tr>\n",
       "    <tr>\n",
       "      <th>5483</th>\n",
       "      <td>0.972301</td>\n",
       "      <td>0.027699</td>\n",
       "    </tr>\n",
       "    <tr>\n",
       "      <th>...</th>\n",
       "      <td>...</td>\n",
       "      <td>...</td>\n",
       "    </tr>\n",
       "    <tr>\n",
       "      <th>101770</th>\n",
       "      <td>0.974886</td>\n",
       "      <td>0.025114</td>\n",
       "    </tr>\n",
       "    <tr>\n",
       "      <th>98852</th>\n",
       "      <td>0.964899</td>\n",
       "      <td>0.035101</td>\n",
       "    </tr>\n",
       "    <tr>\n",
       "      <th>133289</th>\n",
       "      <td>0.970495</td>\n",
       "      <td>0.029505</td>\n",
       "    </tr>\n",
       "    <tr>\n",
       "      <th>37303</th>\n",
       "      <td>0.925761</td>\n",
       "      <td>0.074239</td>\n",
       "    </tr>\n",
       "    <tr>\n",
       "      <th>93233</th>\n",
       "      <td>0.985872</td>\n",
       "      <td>0.014128</td>\n",
       "    </tr>\n",
       "    <tr>\n",
       "      <th>21245</th>\n",
       "      <td>0.980581</td>\n",
       "      <td>0.019419</td>\n",
       "    </tr>\n",
       "    <tr>\n",
       "      <th>888</th>\n",
       "      <td>0.974396</td>\n",
       "      <td>0.025604</td>\n",
       "    </tr>\n",
       "    <tr>\n",
       "      <th>62877</th>\n",
       "      <td>0.975310</td>\n",
       "      <td>0.024690</td>\n",
       "    </tr>\n",
       "    <tr>\n",
       "      <th>22570</th>\n",
       "      <td>0.954359</td>\n",
       "      <td>0.045641</td>\n",
       "    </tr>\n",
       "    <tr>\n",
       "      <th>45444</th>\n",
       "      <td>0.979094</td>\n",
       "      <td>0.020906</td>\n",
       "    </tr>\n",
       "    <tr>\n",
       "      <th>143410</th>\n",
       "      <td>0.755708</td>\n",
       "      <td>0.244292</td>\n",
       "    </tr>\n",
       "    <tr>\n",
       "      <th>66979</th>\n",
       "      <td>0.982833</td>\n",
       "      <td>0.017167</td>\n",
       "    </tr>\n",
       "    <tr>\n",
       "      <th>7243</th>\n",
       "      <td>0.903952</td>\n",
       "      <td>0.096048</td>\n",
       "    </tr>\n",
       "    <tr>\n",
       "      <th>34516</th>\n",
       "      <td>0.974396</td>\n",
       "      <td>0.025604</td>\n",
       "    </tr>\n",
       "    <tr>\n",
       "      <th>7925</th>\n",
       "      <td>0.971476</td>\n",
       "      <td>0.028524</td>\n",
       "    </tr>\n",
       "    <tr>\n",
       "      <th>119017</th>\n",
       "      <td>0.985652</td>\n",
       "      <td>0.014348</td>\n",
       "    </tr>\n",
       "    <tr>\n",
       "      <th>7521</th>\n",
       "      <td>0.455417</td>\n",
       "      <td>0.544583</td>\n",
       "    </tr>\n",
       "    <tr>\n",
       "      <th>88138</th>\n",
       "      <td>0.945511</td>\n",
       "      <td>0.054489</td>\n",
       "    </tr>\n",
       "    <tr>\n",
       "      <th>106883</th>\n",
       "      <td>0.983095</td>\n",
       "      <td>0.016905</td>\n",
       "    </tr>\n",
       "    <tr>\n",
       "      <th>124984</th>\n",
       "      <td>0.990560</td>\n",
       "      <td>0.009440</td>\n",
       "    </tr>\n",
       "    <tr>\n",
       "      <th>23360</th>\n",
       "      <td>0.985652</td>\n",
       "      <td>0.014348</td>\n",
       "    </tr>\n",
       "    <tr>\n",
       "      <th>22987</th>\n",
       "      <td>0.990560</td>\n",
       "      <td>0.009440</td>\n",
       "    </tr>\n",
       "    <tr>\n",
       "      <th>134157</th>\n",
       "      <td>0.981050</td>\n",
       "      <td>0.018950</td>\n",
       "    </tr>\n",
       "    <tr>\n",
       "      <th>127809</th>\n",
       "      <td>0.984775</td>\n",
       "      <td>0.015225</td>\n",
       "    </tr>\n",
       "    <tr>\n",
       "      <th>64751</th>\n",
       "      <td>0.985159</td>\n",
       "      <td>0.014841</td>\n",
       "    </tr>\n",
       "    <tr>\n",
       "      <th>16779</th>\n",
       "      <td>0.983095</td>\n",
       "      <td>0.016905</td>\n",
       "    </tr>\n",
       "    <tr>\n",
       "      <th>143382</th>\n",
       "      <td>0.973300</td>\n",
       "      <td>0.026700</td>\n",
       "    </tr>\n",
       "    <tr>\n",
       "      <th>50341</th>\n",
       "      <td>0.924469</td>\n",
       "      <td>0.075531</td>\n",
       "    </tr>\n",
       "    <tr>\n",
       "      <th>76689</th>\n",
       "      <td>0.907369</td>\n",
       "      <td>0.092631</td>\n",
       "    </tr>\n",
       "    <tr>\n",
       "      <th>3510</th>\n",
       "      <td>0.987518</td>\n",
       "      <td>0.012482</td>\n",
       "    </tr>\n",
       "  </tbody>\n",
       "</table>\n",
       "<p>43607 rows × 2 columns</p>\n",
       "</div>"
      ],
      "text/plain": [
       "               0         1\n",
       "134944  0.986877  0.013123\n",
       "128441  0.983095  0.016905\n",
       "53834   0.990162  0.009838\n",
       "20893   0.951307  0.048693\n",
       "69665   0.988341  0.011659\n",
       "65587   0.983095  0.016905\n",
       "111486  0.983095  0.016905\n",
       "21986   0.987323  0.012677\n",
       "95356   0.988341  0.011659\n",
       "109983  0.973300  0.026700\n",
       "47513   0.982833  0.017167\n",
       "67298   0.982833  0.017167\n",
       "77129   0.962325  0.037675\n",
       "67065   0.968593  0.031407\n",
       "63548   0.922744  0.077256\n",
       "101365  0.984450  0.015550\n",
       "101995  0.966219  0.033781\n",
       "84602   0.967830  0.032170\n",
       "32300   0.980581  0.019419\n",
       "106636  0.975641  0.024359\n",
       "147413  0.964531  0.035469\n",
       "5236    0.987518  0.012482\n",
       "25756   0.985280  0.014720\n",
       "39015   0.969372  0.030628\n",
       "115579  0.984205  0.015795\n",
       "24033   0.963134  0.036866\n",
       "27797   0.852783  0.147217\n",
       "144113  0.977841  0.022159\n",
       "110534  0.988341  0.011659\n",
       "5483    0.972301  0.027699\n",
       "...          ...       ...\n",
       "101770  0.974886  0.025114\n",
       "98852   0.964899  0.035101\n",
       "133289  0.970495  0.029505\n",
       "37303   0.925761  0.074239\n",
       "93233   0.985872  0.014128\n",
       "21245   0.980581  0.019419\n",
       "888     0.974396  0.025604\n",
       "62877   0.975310  0.024690\n",
       "22570   0.954359  0.045641\n",
       "45444   0.979094  0.020906\n",
       "143410  0.755708  0.244292\n",
       "66979   0.982833  0.017167\n",
       "7243    0.903952  0.096048\n",
       "34516   0.974396  0.025604\n",
       "7925    0.971476  0.028524\n",
       "119017  0.985652  0.014348\n",
       "7521    0.455417  0.544583\n",
       "88138   0.945511  0.054489\n",
       "106883  0.983095  0.016905\n",
       "124984  0.990560  0.009440\n",
       "23360   0.985652  0.014348\n",
       "22987   0.990560  0.009440\n",
       "134157  0.981050  0.018950\n",
       "127809  0.984775  0.015225\n",
       "64751   0.985159  0.014841\n",
       "16779   0.983095  0.016905\n",
       "143382  0.973300  0.026700\n",
       "50341   0.924469  0.075531\n",
       "76689   0.907369  0.092631\n",
       "3510    0.987518  0.012482\n",
       "\n",
       "[43607 rows x 2 columns]"
      ]
     },
     "execution_count": 159,
     "metadata": {},
     "output_type": "execute_result"
    }
   ],
   "source": [
    "vali_proba_df"
   ]
  },
  {
   "cell_type": "code",
   "execution_count": 160,
   "metadata": {},
   "outputs": [
    {
     "data": {
      "image/png": "[encoded data removed]",
      "text/plain": [
       "<Figure size 432x288 with 1 Axes>"
      ]
     },
     "metadata": {
      "needs_background": "light"
     },
     "output_type": "display_data"
    }
   ],
   "source": [
    "skplt.metrics.plot_roc(vali_Y,\n",
    "            vali_proba_df,\n",
    "            plot_micro=False,\n",
    "            plot_macro=False);"
   ]
  },
  {
   "cell_type": "code",
   "execution_count": 161,
   "metadata": {
    "scrolled": true
   },
   "outputs": [
    {
     "data": {
      "text/plain": [
       "const                                  -2.609160\n",
       "RevolvingUtilizationOfUnsecuredLines   -0.603587\n",
       "age                                    -0.453965\n",
       "NumberOfTime30-59DaysPastDueNotWorse   -0.555628\n",
       "DebtRatio                              -0.636832\n",
       "MonthlyIncome                          -0.257380\n",
       "NumberOfOpenCreditLinesAndLoans        -0.248086\n",
       "NumberOfTimes90DaysLate                -0.544126\n",
       "NumberOfTime60-89DaysPastDueNotWorse   -0.411364\n",
       "dtype: float64"
      ]
     },
     "execution_count": 161,
     "metadata": {},
     "output_type": "execute_result"
    }
   ],
   "source": [
    "result.params"
   ]
  },
  {
   "cell_type": "code",
   "execution_count": 163,
   "metadata": {},
   "outputs": [
    {
     "data": {
      "text/plain": [
       "(481.8621880878296, 28.85390081777927)"
      ]
     },
     "execution_count": 163,
     "metadata": {},
     "output_type": "execute_result"
    }
   ],
   "source": [
    "B = 20/np.log(2)\n",
    "A = 600 + B*np.log(1/60)\n",
    "A,B"
   ]
  },
  {
   "cell_type": "code",
   "execution_count": 164,
   "metadata": {},
   "outputs": [
    {
     "data": {
      "text/plain": [
       "557.1466445909771"
      ]
     },
     "execution_count": 164,
     "metadata": {},
     "output_type": "execute_result"
    }
   ],
   "source": [
    "base_score = A - B*result.params[\"const\"]\n",
    "base_score"
   ]
  },
  {
   "cell_type": "code",
   "execution_count": 177,
   "metadata": {},
   "outputs": [],
   "source": [
    "# 将评分卡写入文件\n",
    "file = \"ScoreData.csv\"\n",
    "with open(file,\"w\") as fdata:\n",
    "    fdata.write(f\"base_score,{base_score}\\n\")\n",
    "for col in result.params.index[1:]:\n",
    "    temp = woe_values[col]\n",
    "    score = temp[\"woe\"] * (-B*result.params[col])\n",
    "    score.name = \"Score\"\n",
    "    score.index = [(\"{:.2f}\".format(temp.loc[x, \"min\"]),\"{:.2f}\".format(temp.loc[x, \"max\"])) for x in temp.index]\n",
    "    score.index.name = col\n",
    "    score.to_csv(file,header=True,mode=\"a\")"
   ]
  },
  {
   "cell_type": "code",
   "execution_count": 178,
   "metadata": {},
   "outputs": [],
   "source": [
    "col = \"age\""
   ]
  },
  {
   "cell_type": "code",
   "execution_count": 179,
   "metadata": {},
   "outputs": [
    {
     "data": {
      "text/plain": [
       "-0.4539648668313499"
      ]
     },
     "execution_count": 179,
     "metadata": {},
     "output_type": "execute_result"
    }
   ],
   "source": [
    "result.params[col]"
   ]
  },
  {
   "cell_type": "code",
   "execution_count": 180,
   "metadata": {},
   "outputs": [],
   "source": [
    "temp = woe_values[col]"
   ]
  },
  {
   "cell_type": "code",
   "execution_count": 181,
   "metadata": {},
   "outputs": [
    {
     "data": {
      "text/html": [
       "<div>\n",
       "<style scoped>\n",
       "    .dataframe tbody tr th:only-of-type {\n",
       "        vertical-align: middle;\n",
       "    }\n",
       "\n",
       "    .dataframe tbody tr th {\n",
       "        vertical-align: top;\n",
       "    }\n",
       "\n",
       "    .dataframe thead th {\n",
       "        text-align: right;\n",
       "    }\n",
       "</style>\n",
       "<table border=\"1\" class=\"dataframe\">\n",
       "  <thead>\n",
       "    <tr style=\"text-align: right;\">\n",
       "      <th></th>\n",
       "      <th>min</th>\n",
       "      <th>max</th>\n",
       "      <th>count_0</th>\n",
       "      <th>count_1</th>\n",
       "      <th>total</th>\n",
       "      <th>percentage</th>\n",
       "      <th>bad_rate</th>\n",
       "      <th>woe</th>\n",
       "    </tr>\n",
       "    <tr>\n",
       "      <th>age</th>\n",
       "      <th></th>\n",
       "      <th></th>\n",
       "      <th></th>\n",
       "      <th></th>\n",
       "      <th></th>\n",
       "      <th></th>\n",
       "      <th></th>\n",
       "      <th></th>\n",
       "    </tr>\n",
       "  </thead>\n",
       "  <tbody>\n",
       "    <tr>\n",
       "      <th>0</th>\n",
       "      <td>-inf</td>\n",
       "      <td>36.0</td>\n",
       "      <td>14271</td>\n",
       "      <td>1713</td>\n",
       "      <td>15984</td>\n",
       "      <td>0.157096</td>\n",
       "      <td>0.107170</td>\n",
       "      <td>-0.513265</td>\n",
       "    </tr>\n",
       "    <tr>\n",
       "      <th>1</th>\n",
       "      <td>36.0</td>\n",
       "      <td>52.0</td>\n",
       "      <td>33788</td>\n",
       "      <td>3074</td>\n",
       "      <td>36862</td>\n",
       "      <td>0.362291</td>\n",
       "      <td>0.083392</td>\n",
       "      <td>-0.236123</td>\n",
       "    </tr>\n",
       "    <tr>\n",
       "      <th>2</th>\n",
       "      <td>52.0</td>\n",
       "      <td>56.0</td>\n",
       "      <td>9086</td>\n",
       "      <td>654</td>\n",
       "      <td>9740</td>\n",
       "      <td>0.095728</td>\n",
       "      <td>0.067146</td>\n",
       "      <td>-0.001866</td>\n",
       "    </tr>\n",
       "    <tr>\n",
       "      <th>3</th>\n",
       "      <td>56.0</td>\n",
       "      <td>65.0</td>\n",
       "      <td>19422</td>\n",
       "      <td>897</td>\n",
       "      <td>20319</td>\n",
       "      <td>0.199701</td>\n",
       "      <td>0.044146</td>\n",
       "      <td>0.441857</td>\n",
       "    </tr>\n",
       "    <tr>\n",
       "      <th>4</th>\n",
       "      <td>65.0</td>\n",
       "      <td>inf</td>\n",
       "      <td>18360</td>\n",
       "      <td>482</td>\n",
       "      <td>18842</td>\n",
       "      <td>0.185185</td>\n",
       "      <td>0.025581</td>\n",
       "      <td>1.006737</td>\n",
       "    </tr>\n",
       "  </tbody>\n",
       "</table>\n",
       "</div>"
      ],
      "text/plain": [
       "      min   max  count_0  count_1  total  percentage  bad_rate       woe\n",
       "age                                                                     \n",
       "0    -inf  36.0    14271     1713  15984    0.157096  0.107170 -0.513265\n",
       "1    36.0  52.0    33788     3074  36862    0.362291  0.083392 -0.236123\n",
       "2    52.0  56.0     9086      654   9740    0.095728  0.067146 -0.001866\n",
       "3    56.0  65.0    19422      897  20319    0.199701  0.044146  0.441857\n",
       "4    65.0   inf    18360      482  18842    0.185185  0.025581  1.006737"
      ]
     },
     "execution_count": 181,
     "metadata": {},
     "output_type": "execute_result"
    }
   ],
   "source": [
    "temp"
   ]
  },
  {
   "cell_type": "code",
   "execution_count": 184,
   "metadata": {},
   "outputs": [
    {
     "data": {
      "text/plain": [
       "age\n",
       "0    -6.723088\n",
       "1    -3.092890\n",
       "2    -0.024442\n",
       "3     5.787735\n",
       "4    13.186901\n",
       "Name: woe, dtype: float64"
      ]
     },
     "execution_count": 184,
     "metadata": {},
     "output_type": "execute_result"
    }
   ],
   "source": [
    "temp[\"woe\"]* (-B*result.params[col])"
   ]
  },
  {
   "cell_type": "code",
   "execution_count": null,
   "metadata": {},
   "outputs": [],
   "source": [
    "temp[\"woe\"] * (-B*result.params[col])"
   ]
  },
  {
   "cell_type": "code",
   "execution_count": 167,
   "metadata": {},
   "outputs": [
    {
     "data": {
      "text/html": [
       "<div>\n",
       "<style scoped>\n",
       "    .dataframe tbody tr th:only-of-type {\n",
       "        vertical-align: middle;\n",
       "    }\n",
       "\n",
       "    .dataframe tbody tr th {\n",
       "        vertical-align: top;\n",
       "    }\n",
       "\n",
       "    .dataframe thead th {\n",
       "        text-align: right;\n",
       "    }\n",
       "</style>\n",
       "<table border=\"1\" class=\"dataframe\">\n",
       "  <thead>\n",
       "    <tr style=\"text-align: right;\">\n",
       "      <th></th>\n",
       "      <th>min</th>\n",
       "      <th>max</th>\n",
       "      <th>count_0</th>\n",
       "      <th>count_1</th>\n",
       "      <th>total</th>\n",
       "      <th>percentage</th>\n",
       "      <th>bad_rate</th>\n",
       "      <th>woe</th>\n",
       "    </tr>\n",
       "    <tr>\n",
       "      <th>NumberOfTime60-89DaysPastDueNotWorse</th>\n",
       "      <th></th>\n",
       "      <th></th>\n",
       "      <th></th>\n",
       "      <th></th>\n",
       "      <th></th>\n",
       "      <th></th>\n",
       "      <th></th>\n",
       "      <th></th>\n",
       "    </tr>\n",
       "  </thead>\n",
       "  <tbody>\n",
       "    <tr>\n",
       "      <th>0</th>\n",
       "      <td>-inf</td>\n",
       "      <td>0.0</td>\n",
       "      <td>91635</td>\n",
       "      <td>4989</td>\n",
       "      <td>96624</td>\n",
       "      <td>0.94965</td>\n",
       "      <td>0.051633</td>\n",
       "      <td>0.277329</td>\n",
       "    </tr>\n",
       "    <tr>\n",
       "      <th>1</th>\n",
       "      <td>0.0</td>\n",
       "      <td>inf</td>\n",
       "      <td>3292</td>\n",
       "      <td>1831</td>\n",
       "      <td>5123</td>\n",
       "      <td>0.05035</td>\n",
       "      <td>0.357408</td>\n",
       "      <td>-2.046616</td>\n",
       "    </tr>\n",
       "  </tbody>\n",
       "</table>\n",
       "</div>"
      ],
      "text/plain": [
       "                                      min  max  count_0  count_1  total  \\\n",
       "NumberOfTime60-89DaysPastDueNotWorse                                      \n",
       "0                                    -inf  0.0    91635     4989  96624   \n",
       "1                                     0.0  inf     3292     1831   5123   \n",
       "\n",
       "                                      percentage  bad_rate       woe  \n",
       "NumberOfTime60-89DaysPastDueNotWorse                                  \n",
       "0                                        0.94965  0.051633  0.277329  \n",
       "1                                        0.05035  0.357408 -2.046616  "
      ]
     },
     "execution_count": 167,
     "metadata": {},
     "output_type": "execute_result"
    }
   ],
   "source": [
    "woe_values[col]"
   ]
  },
  {
   "cell_type": "code",
   "execution_count": 168,
   "metadata": {},
   "outputs": [],
   "source": [
    "score.index = [(1,2), (2,3)]"
   ]
  },
  {
   "cell_type": "code",
   "execution_count": 169,
   "metadata": {},
   "outputs": [
    {
     "data": {
      "text/plain": [
       "(1, 2)     3.291746\n",
       "(2, 3)   -24.292215\n",
       "Name: Score, dtype: float64"
      ]
     },
     "execution_count": 169,
     "metadata": {},
     "output_type": "execute_result"
    }
   ],
   "source": [
    "score"
   ]
  },
  {
   "cell_type": "code",
   "execution_count": 139,
   "metadata": {},
   "outputs": [],
   "source": [
    "X = [1.,2.,3.]\n",
    "X = 2.3\n",
    "\n",
    "X= np.asarray(X)\n",
    "\n",
    "1/(1+np.exp(-X))\n",
    "\n"
   ]
  },
  {
   "cell_type": "code",
   "execution_count": null,
   "metadata": {},
   "outputs": [],
   "source": []
  },
  {
   "cell_type": "code",
   "execution_count": null,
   "metadata": {},
   "outputs": [],
   "source": []
  },
  {
   "cell_type": "code",
   "execution_count": null,
   "metadata": {},
   "outputs": [],
   "source": [
    "%%cmd\n",
    "\n",
    "numpy \n",
    " \n",
    "conda remove statsmodels -y\n",
    "conda install statsmodels"
   ]
  },
  {
   "cell_type": "code",
   "execution_count": null,
   "metadata": {},
   "outputs": [],
   "source": [
    "conda update --all"
   ]
  },
  {
   "cell_type": "code",
   "execution_count": null,
   "metadata": {},
   "outputs": [],
   "source": [
    "%%cmd\n",
    "\n",
    "conda remove pandas -y\n",
    "conda install pandas "
   ]
  },
  {
   "cell_type": "code",
   "execution_count": 62,
   "metadata": {},
   "outputs": [],
   "source": [
    "import numpy as np\n",
    "import pandas as pd\n",
    "import scipy\n"
   ]
  },
  {
   "cell_type": "code",
   "execution_count": 63,
   "metadata": {},
   "outputs": [],
   "source": [
    "frame= model_data.copy()"
   ]
  },
  {
   "cell_type": "code",
   "execution_count": 64,
   "metadata": {},
   "outputs": [],
   "source": [
    "y = 'SeriousDlqin2yrs'"
   ]
  },
  {
   "cell_type": "code",
   "execution_count": 70,
   "metadata": {},
   "outputs": [],
   "source": [
    "column = \"age\""
   ]
  },
  {
   "cell_type": "code",
   "execution_count": 68,
   "metadata": {},
   "outputs": [],
   "source": [
    "_, bins = pd.qcut(frame[column], q=20, retbins=True, duplicates=\"drop\")"
   ]
  },
  {
   "cell_type": "code",
   "execution_count": 84,
   "metadata": {},
   "outputs": [
    {
     "data": {
      "text/plain": [
       "array([ 21.,  29.,  33.,  36.,  39.,  41.,  44.,  46.,  48.,  50.,  52.,\n",
       "        54.,  56.,  58.,  60.,  62.,  65.,  68.,  72.,  77., 107.])"
      ]
     },
     "execution_count": 84,
     "metadata": {},
     "output_type": "execute_result"
    }
   ],
   "source": [
    "bins"
   ]
  },
  {
   "cell_type": "code",
   "execution_count": 85,
   "metadata": {},
   "outputs": [],
   "source": [
    "bins = list(bins)\n",
    "bins.insert(0, -float(\"inf\"))\n",
    "bins.append(float(\"inf\"))\n"
   ]
  },
  {
   "cell_type": "code",
   "execution_count": 87,
   "metadata": {},
   "outputs": [],
   "source": [
    "frame[column+\"_qcut\"] = pd.cut(frame[column], bins=bins)"
   ]
  },
  {
   "cell_type": "code",
   "execution_count": 92,
   "metadata": {},
   "outputs": [
    {
     "data": {
      "text/plain": [
       "(-inf, 21.0]       83\n",
       "(21.0, 29.0]     5553\n",
       "(29.0, 33.0]     5722\n",
       "(33.0, 36.0]     4626\n",
       "(36.0, 39.0]     5624\n",
       "(39.0, 41.0]     4292\n",
       "(41.0, 44.0]     6639\n",
       "(44.0, 46.0]     4979\n",
       "(46.0, 48.0]     5081\n",
       "(48.0, 50.0]     5261\n",
       "(50.0, 52.0]     4986\n",
       "(52.0, 54.0]     4944\n",
       "(54.0, 56.0]     4796\n",
       "(56.0, 58.0]     4694\n",
       "(58.0, 60.0]     4461\n",
       "(60.0, 62.0]     4832\n",
       "(62.0, 65.0]     6332\n",
       "(65.0, 68.0]     4889\n",
       "(68.0, 72.0]     4753\n",
       "(72.0, 77.0]     4299\n",
       "(77.0, 107.0]    4901\n",
       "(107.0, inf]        0\n",
       "Name: age_qcut, dtype: int64"
      ]
     },
     "execution_count": 92,
     "metadata": {},
     "output_type": "execute_result"
    }
   ],
   "source": [
    "frame[column+\"_qcut\"].value_counts(sort=False)"
   ]
  },
  {
   "cell_type": "code",
   "execution_count": 96,
   "metadata": {},
   "outputs": [],
   "source": [
    "init_counts = list(frame[column+\"_qcut\"].value_counts(sort=False))"
   ]
  },
  {
   "cell_type": "code",
   "execution_count": 99,
   "metadata": {},
   "outputs": [
    {
     "data": {
      "text/plain": [
       "101747"
      ]
     },
     "execution_count": 99,
     "metadata": {},
     "output_type": "execute_result"
    }
   ],
   "source": [
    "len(frame)"
   ]
  },
  {
   "cell_type": "code",
   "execution_count": 100,
   "metadata": {},
   "outputs": [],
   "source": [
    "init_counts = list(frame[column+\"_qcut\"].value_counts(sort=False))\n",
    "# 查看首尾箱体是否占比超过 2%，如果没有那么将之与相邻的箱体进行合并，用于处理添加 inf 后导致的空字段的问题"
   ]
  },
  {
   "cell_type": "code",
   "execution_count": 101,
   "metadata": {
    "collapsed": true
   },
   "outputs": [
    {
     "data": {
      "text/plain": [
       "[83,\n",
       " 5553,\n",
       " 5722,\n",
       " 4626,\n",
       " 5624,\n",
       " 4292,\n",
       " 6639,\n",
       " 4979,\n",
       " 5081,\n",
       " 5261,\n",
       " 4986,\n",
       " 4944,\n",
       " 4796,\n",
       " 4694,\n",
       " 4461,\n",
       " 4832,\n",
       " 6332,\n",
       " 4889,\n",
       " 4753,\n",
       " 4299,\n",
       " 4901,\n",
       " 0]"
      ]
     },
     "execution_count": 101,
     "metadata": {},
     "output_type": "execute_result"
    }
   ],
   "source": [
    "init_counts"
   ]
  },
  {
   "cell_type": "code",
   "execution_count": null,
   "metadata": {},
   "outputs": [],
   "source": [
    "if init_counts[0] < (len(frame)/50):\n",
    "    bins.pop(1)\n",
    "if init_counts[-1] < (len(frame)/50):\n",
    "    bins.pop(-2)"
   ]
  },
  {
   "cell_type": "code",
   "execution_count": 97,
   "metadata": {},
   "outputs": [],
   "source": [
    "# 查看首尾箱体是否占比超过 2%，如果没有那么将之与相邻的箱体进行合并，用于处理添加 inf 后导致的空字段的问题\n",
    "if init_counts[0] < (len(frame)/50):\n",
    "    bins.pop(1)\n",
    "if init_counts[-1] < (len(frame)/50):\n",
    "    bins.pop(-2)"
   ]
  },
  {
   "cell_type": "code",
   "execution_count": 102,
   "metadata": {
    "collapsed": true
   },
   "outputs": [
    {
     "data": {
      "text/plain": [
       "[-inf,\n",
       " 29.0,\n",
       " 33.0,\n",
       " 36.0,\n",
       " 39.0,\n",
       " 41.0,\n",
       " 44.0,\n",
       " 46.0,\n",
       " 48.0,\n",
       " 50.0,\n",
       " 52.0,\n",
       " 54.0,\n",
       " 56.0,\n",
       " 58.0,\n",
       " 60.0,\n",
       " 62.0,\n",
       " 65.0,\n",
       " 68.0,\n",
       " inf]"
      ]
     },
     "execution_count": 102,
     "metadata": {},
     "output_type": "execute_result"
    }
   ],
   "source": [
    "bins"
   ]
  },
  {
   "cell_type": "code",
   "execution_count": 103,
   "metadata": {},
   "outputs": [],
   "source": [
    "# 使用这个箱体的数据进行分箱并做后续的最优化合并\n",
    "frame[column+\"_qcut\"] = pd.cut(frame[column], bins=bins)"
   ]
  },
  {
   "cell_type": "code",
   "execution_count": 104,
   "metadata": {},
   "outputs": [],
   "source": [
    "# 统计每个分段 0，1的数量\n",
    "inf_init_bins = frame.groupby([column+\"_qcut\", y])[y].count().unstack()"
   ]
  },
  {
   "cell_type": "code",
   "execution_count": 105,
   "metadata": {
    "collapsed": true
   },
   "outputs": [
    {
     "data": {
      "text/html": [
       "<div>\n",
       "<style scoped>\n",
       "    .dataframe tbody tr th:only-of-type {\n",
       "        vertical-align: middle;\n",
       "    }\n",
       "\n",
       "    .dataframe tbody tr th {\n",
       "        vertical-align: top;\n",
       "    }\n",
       "\n",
       "    .dataframe thead th {\n",
       "        text-align: right;\n",
       "    }\n",
       "</style>\n",
       "<table border=\"1\" class=\"dataframe\">\n",
       "  <thead>\n",
       "    <tr style=\"text-align: right;\">\n",
       "      <th>SeriousDlqin2yrs</th>\n",
       "      <th>0</th>\n",
       "      <th>1</th>\n",
       "    </tr>\n",
       "    <tr>\n",
       "      <th>age_qcut</th>\n",
       "      <th></th>\n",
       "      <th></th>\n",
       "    </tr>\n",
       "  </thead>\n",
       "  <tbody>\n",
       "    <tr>\n",
       "      <th>(-inf, 29.0]</th>\n",
       "      <td>4997</td>\n",
       "      <td>639</td>\n",
       "    </tr>\n",
       "    <tr>\n",
       "      <th>(29.0, 33.0]</th>\n",
       "      <td>5119</td>\n",
       "      <td>603</td>\n",
       "    </tr>\n",
       "    <tr>\n",
       "      <th>(33.0, 36.0]</th>\n",
       "      <td>4155</td>\n",
       "      <td>471</td>\n",
       "    </tr>\n",
       "    <tr>\n",
       "      <th>(36.0, 39.0]</th>\n",
       "      <td>5121</td>\n",
       "      <td>503</td>\n",
       "    </tr>\n",
       "    <tr>\n",
       "      <th>(39.0, 41.0]</th>\n",
       "      <td>3915</td>\n",
       "      <td>377</td>\n",
       "    </tr>\n",
       "    <tr>\n",
       "      <th>(41.0, 44.0]</th>\n",
       "      <td>6078</td>\n",
       "      <td>561</td>\n",
       "    </tr>\n",
       "    <tr>\n",
       "      <th>(44.0, 46.0]</th>\n",
       "      <td>4562</td>\n",
       "      <td>417</td>\n",
       "    </tr>\n",
       "    <tr>\n",
       "      <th>(46.0, 48.0]</th>\n",
       "      <td>4681</td>\n",
       "      <td>400</td>\n",
       "    </tr>\n",
       "    <tr>\n",
       "      <th>(48.0, 50.0]</th>\n",
       "      <td>4834</td>\n",
       "      <td>427</td>\n",
       "    </tr>\n",
       "    <tr>\n",
       "      <th>(50.0, 52.0]</th>\n",
       "      <td>4597</td>\n",
       "      <td>389</td>\n",
       "    </tr>\n",
       "    <tr>\n",
       "      <th>(52.0, 54.0]</th>\n",
       "      <td>4602</td>\n",
       "      <td>342</td>\n",
       "    </tr>\n",
       "    <tr>\n",
       "      <th>(54.0, 56.0]</th>\n",
       "      <td>4484</td>\n",
       "      <td>312</td>\n",
       "    </tr>\n",
       "    <tr>\n",
       "      <th>(56.0, 58.0]</th>\n",
       "      <td>4460</td>\n",
       "      <td>234</td>\n",
       "    </tr>\n",
       "    <tr>\n",
       "      <th>(58.0, 60.0]</th>\n",
       "      <td>4258</td>\n",
       "      <td>203</td>\n",
       "    </tr>\n",
       "    <tr>\n",
       "      <th>(60.0, 62.0]</th>\n",
       "      <td>4598</td>\n",
       "      <td>234</td>\n",
       "    </tr>\n",
       "    <tr>\n",
       "      <th>(62.0, 65.0]</th>\n",
       "      <td>6106</td>\n",
       "      <td>226</td>\n",
       "    </tr>\n",
       "    <tr>\n",
       "      <th>(65.0, 68.0]</th>\n",
       "      <td>4748</td>\n",
       "      <td>141</td>\n",
       "    </tr>\n",
       "    <tr>\n",
       "      <th>(68.0, inf]</th>\n",
       "      <td>13612</td>\n",
       "      <td>341</td>\n",
       "    </tr>\n",
       "  </tbody>\n",
       "</table>\n",
       "</div>"
      ],
      "text/plain": [
       "SeriousDlqin2yrs      0    1\n",
       "age_qcut                    \n",
       "(-inf, 29.0]       4997  639\n",
       "(29.0, 33.0]       5119  603\n",
       "(33.0, 36.0]       4155  471\n",
       "(36.0, 39.0]       5121  503\n",
       "(39.0, 41.0]       3915  377\n",
       "(41.0, 44.0]       6078  561\n",
       "(44.0, 46.0]       4562  417\n",
       "(46.0, 48.0]       4681  400\n",
       "(48.0, 50.0]       4834  427\n",
       "(50.0, 52.0]       4597  389\n",
       "(52.0, 54.0]       4602  342\n",
       "(54.0, 56.0]       4484  312\n",
       "(56.0, 58.0]       4460  234\n",
       "(58.0, 60.0]       4258  203\n",
       "(60.0, 62.0]       4598  234\n",
       "(62.0, 65.0]       6106  226\n",
       "(65.0, 68.0]       4748  141\n",
       "(68.0, inf]       13612  341"
      ]
     },
     "execution_count": 105,
     "metadata": {},
     "output_type": "execute_result"
    }
   ],
   "source": [
    "inf_init_bins"
   ]
  },
  {
   "cell_type": "code",
   "execution_count": 106,
   "metadata": {},
   "outputs": [
    {
     "data": {
      "text/plain": [
       "[(-inf, 29.0, 4997, 639),\n",
       " (29.0, 33.0, 5119, 603),\n",
       " (33.0, 36.0, 4155, 471),\n",
       " (36.0, 39.0, 5121, 503),\n",
       " (39.0, 41.0, 3915, 377),\n",
       " (41.0, 44.0, 6078, 561),\n",
       " (44.0, 46.0, 4562, 417),\n",
       " (46.0, 48.0, 4681, 400),\n",
       " (48.0, 50.0, 4834, 427),\n",
       " (50.0, 52.0, 4597, 389),\n",
       " (52.0, 54.0, 4602, 342),\n",
       " (54.0, 56.0, 4484, 312),\n",
       " (56.0, 58.0, 4460, 234),\n",
       " (58.0, 60.0, 4258, 203),\n",
       " (60.0, 62.0, 4598, 234),\n",
       " (62.0, 65.0, 6106, 226),\n",
       " (65.0, 68.0, 4748, 141),\n",
       " (68.0, inf, 13612, 341)]"
      ]
     },
     "execution_count": 106,
     "metadata": {},
     "output_type": "execute_result"
    }
   ],
   "source": [
    "# num_bins值分别为每个区间的上界，下界，0的频次，1的频次\n",
    "num_bins = [*zip(bins, bins[1:], inf_init_bins[0], inf_init_bins[1])]\n",
    "num_bins"
   ]
  },
  {
   "cell_type": "code",
   "execution_count": 118,
   "metadata": {},
   "outputs": [
    {
     "data": {
      "text/plain": [
       "(4997, 639)"
      ]
     },
     "execution_count": 118,
     "metadata": {},
     "output_type": "execute_result"
    }
   ],
   "source": [
    "num_bins[0][2:]"
   ]
  },
  {
   "cell_type": "code",
   "execution_count": null,
   "metadata": {},
   "outputs": [],
   "source": [
    "        idx = 0\n",
    "        while idx < len(num_bins):\n",
    "            # 如果是第一个组某个分类为 0，向后合并\n",
    "            if 0 in num_bins[0][2:]:\n",
    "                num_bins = self._merger_bins(num_bins, idx)\n",
    "                continue\n",
    "            else:\n",
    "                # 如果后面的组某个分类为 0 ，向前合并，合并后 num_bins 变短\n",
    "                # 所以需要继续查看当前的 idx 的位置\n",
    "                if 0 in num_bins[idx][2:]:\n",
    "                    num_bins = self._merger_bins(num_bins, idx-1)\n",
    "                    continue\n",
    "                else:\n",
    "                    # 如果没有出现某个分类统计为 0 ，查看下一个 idx 的位置\n",
    "                    idx += 1\n",
    "        return num_bins"
   ]
  },
  {
   "cell_type": "code",
   "execution_count": null,
   "metadata": {},
   "outputs": [],
   "source": []
  },
  {
   "cell_type": "code",
   "execution_count": null,
   "metadata": {},
   "outputs": [],
   "source": [
    "# utf8\n",
    "# Hsiaofei Tsien\n",
    "\n",
    "import numpy as np\n",
    "import pandas as pd\n",
    "import scipy\n",
    "\n",
    "\n",
    "class AutoBins:\n",
    "\n",
    "    def __init__(self, frame, y):\n",
    "        self._frame = frame.copy()\n",
    "        self._y = y\n",
    "\n",
    "    def _column_qcut(self, column):\n",
    "\n",
    "        # 进行初始化分箱，先分成 20 个箱体\n",
    "        _, bins = pd.qcut(self._frame[column], q=20, retbins=True, duplicates=\"drop\")\n",
    "\n",
    "        # 排除因为开闭区间导致的临界值取值问题\n",
    "        bins = list(bins)\n",
    "        bins.insert(0, -float(\"inf\"))\n",
    "        bins.append(float(\"inf\"))\n",
    "\n",
    "        # 按照添加了最大最小值后的箱体重新分箱\n",
    "        self._frame[column+\"_qcut\"] = pd.cut(self._frame[column], bins=bins)\n",
    "\n",
    "        init_counts = list(self._frame[column+\"_qcut\"].value_counts(sort=False))\n",
    "        # 查看首尾箱体是否占比超过 2%，如果没有那么将之与相邻的箱体进行合并，用于处理添加 inf 后导致的空字段的问题\n",
    "        if init_counts[0] < (len(self._frame)/50):\n",
    "            bins.pop(1)\n",
    "        if init_counts[-1] < (len(self._frame)/50):\n",
    "            bins.pop(-2)\n",
    "\n",
    "        # 使用这个箱体的数据进行分箱并做后续的最优化合并\n",
    "        self._frame[column+\"_qcut\"] = pd.cut(self._frame[column], bins=bins)\n",
    "        # 统计每个分段 0，1的数量\n",
    "        inf_init_bins = self._frame.groupby([column+\"_qcut\", self._y])[self._y].count().unstack()\n",
    "        # num_bins值分别为每个区间的上界，下界，0的频次，1的频次\n",
    "        num_bins = [*zip(bins, bins[1:], inf_init_bins[0], inf_init_bins[1])]\n",
    "        return num_bins\n",
    "\n",
    "    def _merge_zero_bins(self, num_bins):\n",
    "        # 用于确保所有的分组均包含两种分类\n",
    "        idx = 0\n",
    "        while idx < len(num_bins):\n",
    "            # 如果是第一个组某个分类为 0，向后合并\n",
    "            if 0 in num_bins[0][2:]:\n",
    "                num_bins = self._merger_bins(num_bins, idx)\n",
    "                continue\n",
    "            else:\n",
    "                # 如果后面的组某个分类为 0 ，向前合并，合并后 num_bins 变短\n",
    "                # 所以需要继续查看当前的 idx 的位置\n",
    "                if 0 in num_bins[idx][2:]:\n",
    "                    num_bins = self._merger_bins(num_bins, idx-1)\n",
    "                    continue\n",
    "                else:\n",
    "                    # 如果没有出现某个分类统计为 0 ，查看下一个 idx 的位置\n",
    "                    idx += 1\n",
    "        return num_bins\n",
    "\n",
    "    def _merger_bins(self, num_bins, x):\n",
    "        # 合并 num_bins x 索引和 x+1 索引的分组数据\n",
    "        num_bins[x: x+2] = [(\n",
    "            num_bins[x][0],\n",
    "            num_bins[x+1][1],\n",
    "            num_bins[x][2]+num_bins[x+1][2],\n",
    "            num_bins[x][3]+num_bins[x+1][3]\n",
    "        )]\n",
    "        return num_bins\n",
    "\n",
    "    # 创建计算 iv 值函数\n",
    "    def _get_iv(self, woe_df):\n",
    "        rate = ((woe_df.count_0/woe_df.count_0.sum()) -\n",
    "                (woe_df.count_1/woe_df.count_1.sum()))\n",
    "        iv = np.sum(rate * woe_df.woe)\n",
    "        return iv\n",
    "\n",
    "\n",
    "    # 定义计算 woe 的函数\n",
    "    def _get_woe(self, num_bins):\n",
    "        # 通过 num_bins 数据计算 woe\n",
    "        columns = [\"min\", \"max\", \"count_0\", \"count_1\"]\n",
    "        df = pd.DataFrame(num_bins, columns=columns)\n",
    "\n",
    "        df[\"total\"] = df.count_0 + df.count_1\n",
    "        df[\"percentage\"] = df.total / df.total.sum()\n",
    "        df[\"bad_rate\"] = df.count_1 / df.total\n",
    "        df[\"woe\"] = np.log(\n",
    "            (df.count_0 / df.count_0.sum()) /\n",
    "            (df.count_1 / df.count_1.sum())\n",
    "            )\n",
    "        return df\n",
    "\n",
    "    def _chi2_merge(self, num_bins):\n",
    "        p_values = []\n",
    "        # 获取 num_bins 两两之间的卡方检验的置信度（或卡方值）\n",
    "        for i in range(len(num_bins)-1):\n",
    "            x1 = num_bins[i][2:]\n",
    "            x2 = num_bins[i+1][2:]\n",
    "            # 0 返回 chi2 值，1 返回 p 值。\n",
    "            pv = scipy.stats.chi2_contingency([x1, x2])[1]\n",
    "            # chi2 = scipy.stats.chi2_contingency([x1, x2])[0]\n",
    "            p_values.append(pv)\n",
    "\n",
    "        # 通过 p 值进行处理。合并 p 值最大的两组\n",
    "        idx = p_values.index(max(p_values))\n",
    "        num_bins = self._merger_bins(num_bins, idx)\n",
    "        return num_bins\n",
    "\n",
    "    def auto_bins(self, column, n=2, show_iv=True):\n",
    "        print(f\"对 {column} 列进行分箱: \")\n",
    "        # 初始化分箱\n",
    "        num_bins = self._column_qcut(column)\n",
    "        # 合并没有包含两类的分箱\n",
    "        num_bins = self._merge_zero_bins(num_bins)\n",
    "        \n",
    "        # 通过 chi2_merge 不断合并最相似的相邻箱体\n",
    "        while len(num_bins) > n:\n",
    "            num_bins = self._chi2_merge(num_bins)\n",
    "            woe_df = self._get_woe(num_bins)\n",
    "            iv = self._get_iv(woe_df)\n",
    "            if show_iv:\n",
    "                print(f\"分组个数: {len(num_bins):02d} \\tiv值: {iv}\")\n",
    "\n",
    "        woe_df = self._get_woe(num_bins)\n",
    "        iv = self._get_iv(woe_df)\n",
    "        if show_iv:\n",
    "            print(\"\\n最后分箱情况: \")\n",
    "            print(f\"分组个数: {len(num_bins):02d} \\tiv值: {iv}\")\n",
    "            print(f\"\\n分组woe情况：\")\n",
    "            print(woe_df)\n",
    "        return num_bins, woe_df, iv\n",
    "\n",
    "\n",
    "# if __name__ == \"__main__\":\n",
    "    # model_data = pd.read_csv(\"ChiMergeData.csv\", encoding=\"utf8\")\n",
    "    # bins_data = AutoBins(model_data, \"SeriousDlqin2yrs\")\n",
    "    # bins_data.auto_bins(\"age\", n=4)\n"
   ]
  },
  {
   "cell_type": "code",
   "execution_count": 107,
   "metadata": {},
   "outputs": [
    {
     "data": {
      "text/plain": [
       "<zip at 0xe466f48>"
      ]
     },
     "execution_count": 107,
     "metadata": {},
     "output_type": "execute_result"
    }
   ],
   "source": [
    "zip([1,2,3],[4,5,6])"
   ]
  },
  {
   "cell_type": "code",
   "execution_count": 108,
   "metadata": {},
   "outputs": [
    {
     "data": {
      "text/plain": [
       "[(1, 4), (2, 5), (3, 6)]"
      ]
     },
     "execution_count": 108,
     "metadata": {},
     "output_type": "execute_result"
    }
   ],
   "source": [
    "list(zip([1,2,3],[4,5,6]))"
   ]
  },
  {
   "cell_type": "code",
   "execution_count": 111,
   "metadata": {},
   "outputs": [
    {
     "data": {
      "text/plain": [
       "[(1, 4), (2, 5), (3, 6)]"
      ]
     },
     "execution_count": 111,
     "metadata": {},
     "output_type": "execute_result"
    }
   ],
   "source": [
    "[*zip([1,2,3],[4,5,6])]"
   ]
  },
  {
   "cell_type": "code",
   "execution_count": 112,
   "metadata": {},
   "outputs": [
    {
     "data": {
      "text/plain": [
       "[<zip at 0xe4a4f88>]"
      ]
     },
     "execution_count": 112,
     "metadata": {},
     "output_type": "execute_result"
    }
   ],
   "source": [
    "[zip([1,2,3],[4,5,6])]"
   ]
  },
  {
   "cell_type": "code",
   "execution_count": 113,
   "metadata": {},
   "outputs": [],
   "source": [
    "a = [1,2,3]"
   ]
  },
  {
   "cell_type": "code",
   "execution_count": 114,
   "metadata": {},
   "outputs": [],
   "source": [
    "b = [a]"
   ]
  },
  {
   "cell_type": "code",
   "execution_count": 115,
   "metadata": {},
   "outputs": [
    {
     "data": {
      "text/plain": [
       "[[1, 2, 3]]"
      ]
     },
     "execution_count": 115,
     "metadata": {},
     "output_type": "execute_result"
    }
   ],
   "source": [
    "b"
   ]
  },
  {
   "cell_type": "code",
   "execution_count": 116,
   "metadata": {},
   "outputs": [],
   "source": [
    "c = [*a]"
   ]
  },
  {
   "cell_type": "code",
   "execution_count": 117,
   "metadata": {},
   "outputs": [
    {
     "data": {
      "text/plain": [
       "[1, 2, 3]"
      ]
     },
     "execution_count": 117,
     "metadata": {},
     "output_type": "execute_result"
    }
   ],
   "source": [
    "c"
   ]
  },
  {
   "cell_type": "code",
   "execution_count": null,
   "metadata": {},
   "outputs": [],
   "source": []
  }
 ],
 "metadata": {
  "kernelspec": {
   "display_name": "Python 3",
   "language": "python",
   "name": "python3"
  },
  "language_info": {
   "codemirror_mode": {
    "name": "ipython",
    "version": 3
   },
   "file_extension": ".py",
   "mimetype": "text/x-python",
   "name": "python",
   "nbconvert_exporter": "python",
   "pygments_lexer": "ipython3",
   "version": "3.7.0"
  },
  "toc": {
   "base_numbering": 1,
   "nav_menu": {},
   "number_sections": true,
   "sideBar": true,
   "skip_h1_title": false,
   "title_cell": "Table of Contents",
   "title_sidebar": "Contents",
   "toc_cell": false,
   "toc_position": {},
   "toc_section_display": true,
   "toc_window_display": false
  }
 },
 "nbformat": 4,
 "nbformat_minor": 2
}
